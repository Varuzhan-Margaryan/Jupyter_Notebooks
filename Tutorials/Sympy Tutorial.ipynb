{
 "cells": [
  {
   "cell_type": "markdown",
   "metadata": {},
   "source": [
    "# Sympy"
   ]
  },
  {
   "cell_type": "code",
   "execution_count": 53,
   "metadata": {},
   "outputs": [],
   "source": [
    "from sympy import *"
   ]
  },
  {
   "cell_type": "markdown",
   "metadata": {},
   "source": [
    "## Demo"
   ]
  },
  {
   "cell_type": "code",
   "execution_count": 54,
   "metadata": {},
   "outputs": [
    {
     "name": "stdout",
     "output_type": "stream",
     "text": [
      "<class 'sympy.core.symbol.Symbol'>\n",
      "<class 'sympy.integrals.integrals.Integral'>\n"
     ]
    },
    {
     "data": {
      "text/latex": [
       "$\\displaystyle \\int e^{x} \\cos{\\left(x \\right)}\\, dx$"
      ],
      "text/plain": [
       "Integral(exp(x)*cos(x), x)"
      ]
     },
     "execution_count": 54,
     "metadata": {},
     "output_type": "execute_result"
    }
   ],
   "source": [
    "x = symbols('x')\n",
    "print(type(x))\n",
    "i = Integral(cos(x)*exp(x),x)\n",
    "print(type(i))\n",
    "i"
   ]
  },
  {
   "cell_type": "code",
   "execution_count": 55,
   "metadata": {},
   "outputs": [
    {
     "data": {
      "text/latex": [
       "$\\displaystyle \\int e^{x} \\cos{\\left(x \\right)}\\, dx = \\frac{e^{x} \\sin{\\left(x \\right)}}{2} + \\frac{e^{x} \\cos{\\left(x \\right)}}{2}$"
      ],
      "text/plain": [
       "Eq(Integral(exp(x)*cos(x), x), exp(x)*sin(x)/2 + exp(x)*cos(x)/2)"
      ]
     },
     "execution_count": 55,
     "metadata": {},
     "output_type": "execute_result"
    }
   ],
   "source": [
    "Eq(i,i.doit())"
   ]
  },
  {
   "cell_type": "markdown",
   "metadata": {},
   "source": [
    "## Equations"
   ]
  },
  {
   "cell_type": "code",
   "execution_count": 56,
   "metadata": {},
   "outputs": [
    {
     "data": {
      "text/latex": [
       "$\\displaystyle 2 \\sqrt{2}$"
      ],
      "text/plain": [
       "2*sqrt(2)"
      ]
     },
     "execution_count": 56,
     "metadata": {},
     "output_type": "execute_result"
    }
   ],
   "source": [
    "sqrt(8)"
   ]
  },
  {
   "cell_type": "code",
   "execution_count": 57,
   "metadata": {},
   "outputs": [
    {
     "data": {
      "text/latex": [
       "$\\displaystyle x^{2} + 2^{- 3 \\log{\\left(x \\right)}}$"
      ],
      "text/plain": [
       "x**2 + 2**(-3*log(x))"
      ]
     },
     "execution_count": 57,
     "metadata": {},
     "output_type": "execute_result"
    }
   ],
   "source": [
    "eq = x**2 + 2**(-3*log(x))\n",
    "eq"
   ]
  },
  {
   "cell_type": "code",
   "execution_count": 58,
   "metadata": {},
   "outputs": [
    {
     "data": {
      "text/latex": [
       "$\\displaystyle 18 x$"
      ],
      "text/plain": [
       "18*x"
      ]
     },
     "execution_count": 58,
     "metadata": {},
     "output_type": "execute_result"
    }
   ],
   "source": [
    "eq = exp(ln(18*x))\n",
    "eq"
   ]
  },
  {
   "cell_type": "code",
   "execution_count": 59,
   "metadata": {},
   "outputs": [
    {
     "data": {
      "text/latex": [
       "$\\displaystyle x^{2} + 18 x - 19$"
      ],
      "text/plain": [
       "x**2 + 18*x - 19"
      ]
     },
     "execution_count": 59,
     "metadata": {},
     "output_type": "execute_result"
    }
   ],
   "source": [
    "eq += x**2 - 19\n",
    "eq"
   ]
  },
  {
   "cell_type": "code",
   "execution_count": 60,
   "metadata": {},
   "outputs": [
    {
     "data": {
      "text/latex": [
       "$\\displaystyle x^{x^{2} + 18 x - 19}$"
      ],
      "text/plain": [
       "x**(x**2 + 18*x - 19)"
      ]
     },
     "execution_count": 60,
     "metadata": {},
     "output_type": "execute_result"
    }
   ],
   "source": [
    "x**eq"
   ]
  },
  {
   "cell_type": "markdown",
   "metadata": {},
   "source": [
    "## Factor, Expand, Collect"
   ]
  },
  {
   "cell_type": "code",
   "execution_count": 61,
   "metadata": {},
   "outputs": [
    {
     "data": {
      "text/latex": [
       "$\\displaystyle \\left(x - 1\\right) \\left(x + 19\\right)$"
      ],
      "text/plain": [
       "(x - 1)*(x + 19)"
      ]
     },
     "execution_count": 61,
     "metadata": {},
     "output_type": "execute_result"
    }
   ],
   "source": [
    "factor(eq)"
   ]
  },
  {
   "cell_type": "code",
   "execution_count": 62,
   "metadata": {},
   "outputs": [
    {
     "data": {
      "text/latex": [
       "$\\displaystyle x^{2} + 18 x - 19$"
      ],
      "text/plain": [
       "x**2 + 18*x - 19"
      ]
     },
     "execution_count": 62,
     "metadata": {},
     "output_type": "execute_result"
    }
   ],
   "source": [
    "expand(factor(eq))"
   ]
  },
  {
   "cell_type": "code",
   "execution_count": 189,
   "metadata": {},
   "outputs": [
    {
     "data": {
      "image/png": "[encoded data removed]",
      "text/latex": [
       "$\\displaystyle x^{2} z^{3} + \\frac{x y^{2}}{z} + x y + 2 x + z^{2}$"
      ],
      "text/plain": [
       "           2                 \n",
       " 2  3   x⋅y                 2\n",
       "x ⋅z  + ──── + x⋅y + 2⋅x + z \n",
       "         z                   "
      ]
     },
     "execution_count": 189,
     "metadata": {},
     "output_type": "execute_result"
    }
   ],
   "source": [
    "x,y,z = symbols('x y z')\n",
    "eq = x*y**2/z+2*x+z**2+y*x+z**3*x**2\n",
    "eq"
   ]
  },
  {
   "cell_type": "code",
   "execution_count": 190,
   "metadata": {},
   "outputs": [
    {
     "data": {
      "image/png": "[encoded data removed]",
      "text/latex": [
       "$\\displaystyle x^{2} z^{3} + x \\left(\\frac{y^{2}}{z} + y + 2\\right) + z^{2}$"
      ],
      "text/plain": [
       "          ⎛ 2        ⎞     \n",
       " 2  3     ⎜y         ⎟    2\n",
       "x ⋅z  + x⋅⎜── + y + 2⎟ + z \n",
       "          ⎝z         ⎠     "
      ]
     },
     "execution_count": 190,
     "metadata": {},
     "output_type": "execute_result"
    }
   ],
   "source": [
    "collect(eq,x)"
   ]
  },
  {
   "cell_type": "markdown",
   "metadata": {},
   "source": [
    "## Printing"
   ]
  },
  {
   "cell_type": "code",
   "execution_count": 63,
   "metadata": {},
   "outputs": [
    {
     "data": {
      "text/plain": [
       " 2            \n",
       "x  + 18⋅x - 19"
      ]
     },
     "execution_count": 63,
     "metadata": {},
     "output_type": "execute_result"
    }
   ],
   "source": [
    "init_printing(use_latex=False)\n",
    "eq"
   ]
  },
  {
   "cell_type": "code",
   "execution_count": 64,
   "metadata": {},
   "outputs": [
    {
     "data": {
      "image/png": "[encoded data removed]",
      "text/latex": [
       "$\\displaystyle x^{2} + 18 x - 19$"
      ],
      "text/plain": [
       " 2            \n",
       "x  + 18⋅x - 19"
      ]
     },
     "execution_count": 64,
     "metadata": {},
     "output_type": "execute_result"
    }
   ],
   "source": [
    "init_printing(use_latex=True)\n",
    "eq"
   ]
  },
  {
   "cell_type": "markdown",
   "metadata": {},
   "source": [
    "## Derivative, Integral"
   ]
  },
  {
   "cell_type": "code",
   "execution_count": 65,
   "metadata": {},
   "outputs": [
    {
     "data": {
      "image/png": "[encoded data removed]",
      "text/latex": [
       "$\\displaystyle 2 x$"
      ],
      "text/plain": [
       "2⋅x"
      ]
     },
     "execution_count": 65,
     "metadata": {},
     "output_type": "execute_result"
    }
   ],
   "source": [
    "diff(x**2) #or diff(x**2, x)"
   ]
  },
  {
   "cell_type": "code",
   "execution_count": 66,
   "metadata": {},
   "outputs": [
    {
     "data": {
      "image/png": "[encoded data removed]",
      "text/latex": [
       "$\\displaystyle x^{x} \\left(\\log{\\left(x \\right)} + 1\\right)$"
      ],
      "text/plain": [
       " x             \n",
       "x ⋅(log(x) + 1)"
      ]
     },
     "execution_count": 66,
     "metadata": {},
     "output_type": "execute_result"
    }
   ],
   "source": [
    "diff(x**x)"
   ]
  },
  {
   "cell_type": "code",
   "execution_count": 67,
   "metadata": {},
   "outputs": [
    {
     "data": {
      "image/png": "[encoded data removed]",
      "text/latex": [
       "$\\displaystyle \\frac{d}{d x} x^{x}$"
      ],
      "text/plain": [
       "d ⎛ x⎞\n",
       "──⎝x ⎠\n",
       "dx    "
      ]
     },
     "execution_count": 67,
     "metadata": {},
     "output_type": "execute_result"
    }
   ],
   "source": [
    "Derivative(x**x)"
   ]
  },
  {
   "cell_type": "code",
   "execution_count": 68,
   "metadata": {},
   "outputs": [
    {
     "data": {
      "image/png": "[encoded data removed]",
      "text/latex": [
       "$\\displaystyle x^{x} \\left(\\log{\\left(x \\right)} + 1\\right)$"
      ],
      "text/plain": [
       " x             \n",
       "x ⋅(log(x) + 1)"
      ]
     },
     "execution_count": 68,
     "metadata": {},
     "output_type": "execute_result"
    }
   ],
   "source": [
    "Derivative(x**x).doit()"
   ]
  },
  {
   "cell_type": "code",
   "execution_count": 69,
   "metadata": {},
   "outputs": [
    {
     "data": {
      "image/png": "[encoded data removed]",
      "text/latex": [
       "$\\displaystyle \\frac{d}{d x} x^{x} = x^{x} \\left(\\log{\\left(x \\right)} + 1\\right)$"
      ],
      "text/plain": [
       "d ⎛ x⎞    x             \n",
       "──⎝x ⎠ = x ⋅(log(x) + 1)\n",
       "dx                      "
      ]
     },
     "execution_count": 69,
     "metadata": {},
     "output_type": "execute_result"
    }
   ],
   "source": [
    "der = Derivative(x**x)\n",
    "Eq(der, der.doit())"
   ]
  },
  {
   "cell_type": "code",
   "execution_count": 70,
   "metadata": {},
   "outputs": [
    {
     "data": {
      "image/png": "[encoded data removed]",
      "text/latex": [
       "$\\displaystyle \\frac{e^{x} \\sin{\\left(x \\right)}}{2} - \\frac{e^{x} \\cos{\\left(x \\right)}}{2}$"
      ],
      "text/plain": [
       " x           x       \n",
       "ℯ ⋅sin(x)   ℯ ⋅cos(x)\n",
       "───────── - ─────────\n",
       "    2           2    "
      ]
     },
     "execution_count": 70,
     "metadata": {},
     "output_type": "execute_result"
    }
   ],
   "source": [
    "integrate(exp(x)*sin(x))"
   ]
  },
  {
   "cell_type": "code",
   "execution_count": 71,
   "metadata": {},
   "outputs": [
    {
     "data": {
      "image/png": "[encoded data removed]",
      "text/latex": [
       "$\\displaystyle \\frac{\\sqrt{\\pi} \\operatorname{erf}{\\left(x \\right)}}{2}$"
      ],
      "text/plain": [
       "√π⋅erf(x)\n",
       "─────────\n",
       "    2    "
      ]
     },
     "execution_count": 71,
     "metadata": {},
     "output_type": "execute_result"
    }
   ],
   "source": [
    "integrate(exp(-x**2))"
   ]
  },
  {
   "cell_type": "markdown",
   "metadata": {},
   "source": [
    "## Definite integrals"
   ]
  },
  {
   "cell_type": "code",
   "execution_count": 72,
   "metadata": {},
   "outputs": [
    {
     "data": {
      "image/png": "[encoded data removed]",
      "text/latex": [
       "$\\displaystyle \\frac{1}{2} + \\frac{e^{\\pi}}{2}$"
      ],
      "text/plain": [
       "     π\n",
       "1   ℯ \n",
       "─ + ──\n",
       "2   2 "
      ]
     },
     "execution_count": 72,
     "metadata": {},
     "output_type": "execute_result"
    }
   ],
   "source": [
    "#integrate from 0 to pi\n",
    "integrate(exp(x)*sin(x), (x, 0, pi))"
   ]
  },
  {
   "cell_type": "code",
   "execution_count": 73,
   "metadata": {},
   "outputs": [
    {
     "data": {
      "image/png": "[encoded data removed]",
      "text/latex": [
       "$\\displaystyle \\sqrt{\\pi}$"
      ],
      "text/plain": [
       "√π"
      ]
     },
     "execution_count": 73,
     "metadata": {},
     "output_type": "execute_result"
    }
   ],
   "source": [
    "#from -infinity to infinity\n",
    "integrate(exp(-x**2), (x, -oo, oo))"
   ]
  },
  {
   "cell_type": "code",
   "execution_count": 74,
   "metadata": {},
   "outputs": [
    {
     "data": {
      "image/png": "[encoded data removed]",
      "text/latex": [
       "$\\displaystyle \\int\\limits_{-\\infty}^{\\infty} e^{- x^{2}}\\, dx = \\sqrt{\\pi}$"
      ],
      "text/plain": [
       "∞              \n",
       "⌠              \n",
       "⎮     2        \n",
       "⎮   -x         \n",
       "⎮  ℯ    dx = √π\n",
       "⌡              \n",
       "-∞             "
      ]
     },
     "execution_count": 74,
     "metadata": {},
     "output_type": "execute_result"
    }
   ],
   "source": [
    "i = Integral(exp(-x**2), (x, -oo, oo))\n",
    "Eq(i,i.doit())"
   ]
  },
  {
   "cell_type": "markdown",
   "metadata": {},
   "source": [
    "## Limit"
   ]
  },
  {
   "cell_type": "code",
   "execution_count": 75,
   "metadata": {},
   "outputs": [
    {
     "data": {
      "image/png": "[encoded data removed]",
      "text/latex": [
       "$\\displaystyle 1$"
      ],
      "text/plain": [
       "1"
      ]
     },
     "execution_count": 75,
     "metadata": {},
     "output_type": "execute_result"
    }
   ],
   "source": [
    "limit(sin(x)/x, x ,0)"
   ]
  },
  {
   "cell_type": "code",
   "execution_count": 76,
   "metadata": {},
   "outputs": [
    {
     "data": {
      "image/png": "[encoded data removed]",
      "text/latex": [
       "$\\displaystyle \\lim_{x \\to 0^+}\\left(\\frac{\\sin{\\left(x \\right)}}{x}\\right) = 1$"
      ],
      "text/plain": [
       "     ⎛sin(x)⎞    \n",
       " lim ⎜──────⎟ = 1\n",
       "x─→0⁺⎝  x   ⎠    "
      ]
     },
     "execution_count": 76,
     "metadata": {},
     "output_type": "execute_result"
    }
   ],
   "source": [
    "lim = Limit(sin(x)/x, x ,0)\n",
    "Eq(lim, lim.doit())"
   ]
  },
  {
   "cell_type": "markdown",
   "metadata": {},
   "source": [
    "## Solving equations"
   ]
  },
  {
   "cell_type": "code",
   "execution_count": 77,
   "metadata": {},
   "outputs": [
    {
     "data": {
      "image/png": "[encoded data removed]",
      "text/latex": [
       "$\\displaystyle \\left[ -1, \\  1\\right]$"
      ],
      "text/plain": [
       "[-1, 1]"
      ]
     },
     "execution_count": 77,
     "metadata": {},
     "output_type": "execute_result"
    }
   ],
   "source": [
    "solve(x**2-1)"
   ]
  },
  {
   "cell_type": "code",
   "execution_count": 78,
   "metadata": {},
   "outputs": [
    {
     "data": {
      "image/png": "[encoded data removed]",
      "text/latex": [
       "$\\displaystyle \\left[ -1, \\  1\\right]$"
      ],
      "text/plain": [
       "[-1, 1]"
      ]
     },
     "execution_count": 78,
     "metadata": {},
     "output_type": "execute_result"
    }
   ],
   "source": [
    "eq = Eq(x**2-1)\n",
    "solve(eq)"
   ]
  },
  {
   "cell_type": "code",
   "execution_count": 79,
   "metadata": {},
   "outputs": [
    {
     "data": {
      "image/png": "[encoded data removed]",
      "text/latex": [
       "$\\displaystyle \\left[ - i, \\  i\\right]$"
      ],
      "text/plain": [
       "[-ⅈ, ⅈ]"
      ]
     },
     "execution_count": 79,
     "metadata": {},
     "output_type": "execute_result"
    }
   ],
   "source": [
    "solve(x**2+1)"
   ]
  },
  {
   "cell_type": "code",
   "execution_count": 80,
   "metadata": {},
   "outputs": [
    {
     "data": {
      "image/png": "[encoded data removed]",
      "text/latex": [
       "$\\displaystyle \\left[ - \\frac{13}{4} + \\frac{\\sqrt{\\frac{13}{18 \\sqrt[3]{\\frac{\\sqrt{2383989}}{144} + \\frac{4633}{432}}} + 2 \\sqrt[3]{\\frac{\\sqrt{2383989}}{144} + \\frac{4633}{432}} + \\frac{515}{12}}}{2} - \\frac{\\sqrt{- \\frac{2249}{4 \\sqrt{\\frac{13}{18 \\sqrt[3]{\\frac{\\sqrt{2383989}}{144} + \\frac{4633}{432}}} + 2 \\sqrt[3]{\\frac{\\sqrt{2383989}}{144} + \\frac{4633}{432}} + \\frac{515}{12}}} - 2 \\sqrt[3]{\\frac{\\sqrt{2383989}}{144} + \\frac{4633}{432}} - \\frac{13}{18 \\sqrt[3]{\\frac{\\sqrt{2383989}}{144} + \\frac{4633}{432}}} + \\frac{515}{6}}}{2}, \\  - \\frac{13}{4} + \\frac{\\sqrt{\\frac{13}{18 \\sqrt[3]{\\frac{\\sqrt{2383989}}{144} + \\frac{4633}{432}}} + 2 \\sqrt[3]{\\frac{\\sqrt{2383989}}{144} + \\frac{4633}{432}} + \\frac{515}{12}}}{2} + \\frac{\\sqrt{- \\frac{2249}{4 \\sqrt{\\frac{13}{18 \\sqrt[3]{\\frac{\\sqrt{2383989}}{144} + \\frac{4633}{432}}} + 2 \\sqrt[3]{\\frac{\\sqrt{2383989}}{144} + \\frac{4633}{432}} + \\frac{515}{12}}} - 2 \\sqrt[3]{\\frac{\\sqrt{2383989}}{144} + \\frac{4633}{432}} - \\frac{13}{18 \\sqrt[3]{\\frac{\\sqrt{2383989}}{144} + \\frac{4633}{432}}} + \\frac{515}{6}}}{2}, \\  - \\frac{\\sqrt{\\frac{13}{18 \\sqrt[3]{\\frac{\\sqrt{2383989}}{144} + \\frac{4633}{432}}} + 2 \\sqrt[3]{\\frac{\\sqrt{2383989}}{144} + \\frac{4633}{432}} + \\frac{515}{12}}}{2} - \\frac{13}{4} + \\frac{\\sqrt{- 2 \\sqrt[3]{\\frac{\\sqrt{2383989}}{144} + \\frac{4633}{432}} - \\frac{13}{18 \\sqrt[3]{\\frac{\\sqrt{2383989}}{144} + \\frac{4633}{432}}} + \\frac{2249}{4 \\sqrt{\\frac{13}{18 \\sqrt[3]{\\frac{\\sqrt{2383989}}{144} + \\frac{4633}{432}}} + 2 \\sqrt[3]{\\frac{\\sqrt{2383989}}{144} + \\frac{4633}{432}} + \\frac{515}{12}}} + \\frac{515}{6}}}{2}, \\  - \\frac{\\sqrt{- 2 \\sqrt[3]{\\frac{\\sqrt{2383989}}{144} + \\frac{4633}{432}} - \\frac{13}{18 \\sqrt[3]{\\frac{\\sqrt{2383989}}{144} + \\frac{4633}{432}}} + \\frac{2249}{4 \\sqrt{\\frac{13}{18 \\sqrt[3]{\\frac{\\sqrt{2383989}}{144} + \\frac{4633}{432}}} + 2 \\sqrt[3]{\\frac{\\sqrt{2383989}}{144} + \\frac{4633}{432}} + \\frac{515}{12}}} + \\frac{515}{6}}}{2} - \\frac{\\sqrt{\\frac{13}{18 \\sqrt[3]{\\frac{\\sqrt{2383989}}{144} + \\frac{4633}{432}}} + 2 \\sqrt[3]{\\frac{\\sqrt{2383989}}{144} + \\frac{4633}{432}} + \\frac{515}{12}}}{2} - \\frac{13}{4}\\right]$"
      ],
      "text/plain": [
       "⎡                                                                             \n",
       "⎢                                                                             \n",
       "⎢                                                                             \n",
       "⎢                                                                             \n",
       "⎢               __________________________________________________________    \n",
       "⎢              ╱                                  _________________           \n",
       "⎢             ╱             13                   ╱ √2383989   4633    515     \n",
       "⎢            ╱   ──────────────────────── + 2⋅3 ╱  ──────── + ────  + ───     \n",
       "⎢           ╱           _________________     ╲╱     144      432      12     \n",
       "⎢          ╱           ╱ √2383989   4633                                      \n",
       "⎢         ╱      18⋅3 ╱  ──────── + ────                                      \n",
       "⎢  13   ╲╱          ╲╱     144      432                                      ╲\n",
       "⎢- ── + ────────────────────────────────────────────────────────────────── - ─\n",
       "⎣  4                                    2                                     \n",
       "\n",
       "           ___________________________________________________________________\n",
       "          ╱                                                                   \n",
       "         ╱                                    2249                            \n",
       "        ╱   - ────────────────────────────────────────────────────────────────\n",
       "       ╱                ______________________________________________________\n",
       "      ╱                ╱                                  _________________   \n",
       "     ╱                ╱             13                   ╱ √2383989   4633    \n",
       "    ╱         4⋅     ╱   ──────────────────────── + 2⋅3 ╱  ──────── + ────  + \n",
       "   ╱                ╱           _________________     ╲╱     144      432     \n",
       "  ╱                ╱           ╱ √2383989   4633                              \n",
       " ╱                ╱      18⋅3 ╱  ──────── + ────                              \n",
       "╱               ╲╱          ╲╱     144      432                               \n",
       "──────────────────────────────────────────────────────────────────────────────\n",
       "                                                                      2       \n",
       "\n",
       "________________________________________________________________              \n",
       "             _________________                                                \n",
       "            ╱ √2383989   4633               13              515               \n",
       "──── - 2⋅3 ╱  ──────── + ────  - ──────────────────────── + ───               \n",
       "____     ╲╱     144      432            _________________    6                \n",
       "                                       ╱ √2383989   4633                      \n",
       "515                              18⋅3 ╱  ──────── + ────                      \n",
       "───                                 ╲╱     144      432                       \n",
       " 12                                                                          ╱\n",
       "                                                                            ╱ \n",
       "                                                                           ╱  \n",
       "                                                                    13   ╲╱   \n",
       "────────────────────────────────────────────────────────────────, - ── + ─────\n",
       "                                                                    4         \n",
       "\n",
       "                                                                            __\n",
       "                                                                           ╱  \n",
       "                                                                          ╱   \n",
       "                                                                         ╱   -\n",
       "   __________________________________________________________           ╱     \n",
       "  ╱                                  _________________                 ╱      \n",
       " ╱             13                   ╱ √2383989   4633    515          ╱       \n",
       "╱   ──────────────────────── + 2⋅3 ╱  ──────── + ────  + ───         ╱        \n",
       "           _________________     ╲╱     144      432      12        ╱         \n",
       "          ╱ √2383989   4633                                        ╱          \n",
       "    18⋅3 ╱  ──────── + ────                                       ╱           \n",
       "       ╲╱     144      432                                      ╲╱            \n",
       "───────────────────────────────────────────────────────────── + ──────────────\n",
       "                           2                                                  \n",
       "\n",
       "______________________________________________________________________________\n",
       "                                                                              \n",
       "                                 2249                                        ╱\n",
       " ──────────────────────────────────────────────────────────────────── - 2⋅3 ╱ \n",
       "           __________________________________________________________     ╲╱  \n",
       "          ╱                                  _________________                \n",
       "         ╱             13                   ╱ √2383989   4633    515          \n",
       " 4⋅     ╱   ──────────────────────── + 2⋅3 ╱  ──────── + ────  + ───          \n",
       "       ╱           _________________     ╲╱     144      432      12          \n",
       "      ╱           ╱ √2383989   4633                                           \n",
       "     ╱      18⋅3 ╱  ──────── + ────                                           \n",
       "   ╲╱          ╲╱     144      432                                            \n",
       "──────────────────────────────────────────────────────────────────────────────\n",
       "                                                         2                    \n",
       "\n",
       "___________________________________________________                           \n",
       "_________________                                                             \n",
       " √2383989   4633               13              515                            \n",
       " ──────── + ────  - ──────────────────────── + ───                            \n",
       "   144      432            _________________    6              _______________\n",
       "                          ╱ √2383989   4633                   ╱               \n",
       "                    18⋅3 ╱  ──────── + ────                  ╱             13 \n",
       "                       ╲╱     144      432                  ╱   ──────────────\n",
       "                                                           ╱           _______\n",
       "                                                          ╱           ╱ √23839\n",
       "                                                         ╱      18⋅3 ╱  ──────\n",
       "                                                       ╲╱          ╲╱     144 \n",
       "───────────────────────────────────────────────────, - ───────────────────────\n",
       "                                                                              \n",
       "\n",
       "                                                               _______________\n",
       "                                                              ╱         ______\n",
       "                                                             ╱         ╱ √2383\n",
       "                                                            ╱   - 2⋅3 ╱  ─────\n",
       "___________________________________________                ╱        ╲╱     144\n",
       "                   _________________                      ╱                   \n",
       "                  ╱ √2383989   4633    515               ╱                    \n",
       "────────── + 2⋅3 ╱  ──────── + ────  + ───              ╱                     \n",
       "__________     ╲╱     144      432      12             ╱                      \n",
       "89   4633                                             ╱                       \n",
       "── + ────                                            ╱                        \n",
       "     432                                      13   ╲╱                         \n",
       "─────────────────────────────────────────── - ── + ───────────────────────────\n",
       "         2                                    4                               \n",
       "\n",
       "______________________________________________________________________________\n",
       "___________                                                                   \n",
       "989   4633               13                                              2249 \n",
       "─── + ────  - ──────────────────────── + ─────────────────────────────────────\n",
       "      432            _________________             ___________________________\n",
       "                    ╱ √2383989   4633             ╱                           \n",
       "              18⋅3 ╱  ──────── + ────            ╱             13             \n",
       "                 ╲╱     144      432     4⋅     ╱   ──────────────────────── +\n",
       "                                               ╱           _________________  \n",
       "                                              ╱           ╱ √2383989   4633   \n",
       "                                             ╱      18⋅3 ╱  ──────── + ────   \n",
       "                                           ╲╱          ╲╱     144      432    \n",
       "──────────────────────────────────────────────────────────────────────────────\n",
       "                                            2                                 \n",
       "\n",
       "______________________________________                ________________________\n",
       "                                                     ╱         _______________\n",
       "                                  515               ╱         ╱ √2383989   463\n",
       "─────────────────────────────── + ───              ╱   - 2⋅3 ╱  ──────── + ───\n",
       "_______________________________    6              ╱        ╲╱     144      432\n",
       "       _________________                         ╱                            \n",
       "      ╱ √2383989   4633    515                  ╱                             \n",
       " 2⋅3 ╱  ──────── + ────  + ───                 ╱                              \n",
       "   ╲╱     144      432      12                ╱                               \n",
       "                                             ╱                                \n",
       "                                            ╱                                 \n",
       "                                          ╲╱                                  \n",
       "──────────────────────────────────────, - ────────────────────────────────────\n",
       "                                                                              \n",
       "\n",
       "______________________________________________________________________________\n",
       "__                                                                            \n",
       "3               13                                              2249          \n",
       "─  - ──────────────────────── + ──────────────────────────────────────────────\n",
       "            _________________             ____________________________________\n",
       "           ╱ √2383989   4633             ╱                                  __\n",
       "     18⋅3 ╱  ──────── + ────            ╱             13                   ╱ √\n",
       "        ╲╱     144      432     4⋅     ╱   ──────────────────────── + 2⋅3 ╱  ─\n",
       "                                      ╱           _________________     ╲╱    \n",
       "                                     ╱           ╱ √2383989   4633            \n",
       "                                    ╱      18⋅3 ╱  ──────── + ────            \n",
       "                                  ╲╱          ╲╱     144      432             \n",
       "──────────────────────────────────────────────────────────────────────────────\n",
       "                                   2                                          \n",
       "\n",
       "_____________________________                                                 \n",
       "                                                                              \n",
       "                         515                                                  \n",
       "────────────────────── + ───                                                  \n",
       "______________________    6             ______________________________________\n",
       "_______________                        ╱                                  ____\n",
       "2383989   4633    515                 ╱             13                   ╱ √23\n",
       "─────── + ────  + ───                ╱   ──────────────────────── + 2⋅3 ╱  ───\n",
       " 144      432      12               ╱           _________________     ╲╱     1\n",
       "                                   ╱           ╱ √2383989   4633              \n",
       "                                  ╱      18⋅3 ╱  ──────── + ────              \n",
       "                                ╲╱          ╲╱     144      432               \n",
       "───────────────────────────── - ──────────────────────────────────────────────\n",
       "                                                                2             \n",
       "\n",
       "                         ⎤\n",
       "                         ⎥\n",
       "                         ⎥\n",
       "                         ⎥\n",
       "____________________     ⎥\n",
       "_____________            ⎥\n",
       "83989   4633    515      ⎥\n",
       "───── + ────  + ───      ⎥\n",
       "44      432      12      ⎥\n",
       "                         ⎥\n",
       "                         ⎥\n",
       "                       13⎥\n",
       "──────────────────── - ──⎥\n",
       "                       4 ⎦"
      ]
     },
     "execution_count": 80,
     "metadata": {},
     "output_type": "execute_result"
    }
   ],
   "source": [
    "solve(x**4+13*x**3-x**2+1) #WTF... HOW?????"
   ]
  },
  {
   "cell_type": "markdown",
   "metadata": {},
   "source": [
    "## Solving differential equations"
   ]
  },
  {
   "cell_type": "code",
   "execution_count": 81,
   "metadata": {},
   "outputs": [
    {
     "data": {
      "text/plain": [
       "y"
      ]
     },
     "execution_count": 81,
     "metadata": {},
     "output_type": "execute_result"
    }
   ],
   "source": [
    "y = Function('y')\n",
    "t = symbols('t')\n",
    "y"
   ]
  },
  {
   "cell_type": "code",
   "execution_count": 82,
   "metadata": {},
   "outputs": [
    {
     "data": {
      "image/png": "[encoded data removed]",
      "text/latex": [
       "$\\displaystyle \\frac{d}{d t} y$"
      ],
      "text/plain": [
       "d    \n",
       "──(y)\n",
       "dt   "
      ]
     },
     "execution_count": 82,
     "metadata": {},
     "output_type": "execute_result"
    }
   ],
   "source": [
    "Derivative(y,t)"
   ]
  },
  {
   "cell_type": "code",
   "execution_count": 83,
   "metadata": {},
   "outputs": [
    {
     "data": {
      "image/png": "[encoded data removed]",
      "text/latex": [
       "$\\displaystyle \\frac{d^{2}}{d t^{2}} y$"
      ],
      "text/plain": [
       "  2   \n",
       " d    \n",
       "───(y)\n",
       "  2   \n",
       "dt    "
      ]
     },
     "execution_count": 83,
     "metadata": {},
     "output_type": "execute_result"
    }
   ],
   "source": [
    "Derivative(y,t,t)"
   ]
  },
  {
   "cell_type": "code",
   "execution_count": 84,
   "metadata": {},
   "outputs": [
    {
     "data": {
      "image/png": "[encoded data removed]",
      "text/latex": [
       "$\\displaystyle \\frac{d}{d t} y{\\left(t \\right)}$"
      ],
      "text/plain": [
       "d       \n",
       "──(y(t))\n",
       "dt      "
      ]
     },
     "execution_count": 84,
     "metadata": {},
     "output_type": "execute_result"
    }
   ],
   "source": [
    "y(t).diff(t)"
   ]
  },
  {
   "cell_type": "code",
   "execution_count": 85,
   "metadata": {},
   "outputs": [
    {
     "data": {
      "image/png": "[encoded data removed]",
      "text/latex": [
       "$\\displaystyle y{\\left(t \\right)} + \\frac{d^{2}}{d t^{2}} y{\\left(t \\right)} = 0$"
      ],
      "text/plain": [
       "         2          \n",
       "        d           \n",
       "y(t) + ───(y(t)) = 0\n",
       "         2          \n",
       "       dt           "
      ]
     },
     "execution_count": 85,
     "metadata": {},
     "output_type": "execute_result"
    }
   ],
   "source": [
    "eq = Eq(y(t).diff(t, t) + 1*y(t))\n",
    "eq"
   ]
  },
  {
   "cell_type": "code",
   "execution_count": 86,
   "metadata": {},
   "outputs": [
    {
     "data": {
      "image/png": "[encoded data removed]",
      "text/latex": [
       "$\\displaystyle y{\\left(t \\right)} = C_{1} \\sin{\\left(t \\right)} + C_{2} \\cos{\\left(t \\right)}$"
      ],
      "text/plain": [
       "y(t) = C₁⋅sin(t) + C₂⋅cos(t)"
      ]
     },
     "execution_count": 86,
     "metadata": {},
     "output_type": "execute_result"
    }
   ],
   "source": [
    "dsolve(eq, y(t))"
   ]
  },
  {
   "cell_type": "markdown",
   "metadata": {},
   "source": [
    "## Linear algebra"
   ]
  },
  {
   "cell_type": "code",
   "execution_count": 87,
   "metadata": {},
   "outputs": [
    {
     "data": {
      "text/latex": [
       "$\\displaystyle \\left[\\begin{matrix}4 & 4\\\\-3 & 3\\end{matrix}\\right]$"
      ],
      "text/plain": [
       "⎡4   4⎤\n",
       "⎢     ⎥\n",
       "⎣-3  3⎦"
      ]
     },
     "execution_count": 87,
     "metadata": {},
     "output_type": "execute_result"
    }
   ],
   "source": [
    "A = Matrix([[4, 4], [-3, 3]])\n",
    "A"
   ]
  },
  {
   "cell_type": "code",
   "execution_count": 88,
   "metadata": {},
   "outputs": [
    {
     "data": {
      "image/png": "[encoded data removed]",
      "text/latex": [
       "$\\displaystyle \\left\\{ \\frac{7}{2} - \\frac{\\sqrt{47} i}{2} : 1, \\  \\frac{7}{2} + \\frac{\\sqrt{47} i}{2} : 1\\right\\}$"
      ],
      "text/plain": [
       "⎧7   √47⋅ⅈ     7   √47⋅ⅈ   ⎫\n",
       "⎨─ - ─────: 1, ─ + ─────: 1⎬\n",
       "⎩2     2       2     2     ⎭"
      ]
     },
     "execution_count": 88,
     "metadata": {},
     "output_type": "execute_result"
    }
   ],
   "source": [
    "A.eigenvals()"
   ]
  },
  {
   "cell_type": "markdown",
   "metadata": {},
   "source": [
    "## Latex"
   ]
  },
  {
   "cell_type": "code",
   "execution_count": 89,
   "metadata": {},
   "outputs": [
    {
     "data": {
      "text/plain": [
       "'\\\\int\\\\limits_{0}^{\\\\pi} \\\\cos^{2}{\\\\left(x \\\\right)}\\\\, dx'"
      ]
     },
     "execution_count": 89,
     "metadata": {},
     "output_type": "execute_result"
    }
   ],
   "source": [
    "latex(Integral(cos(x)**2, (x, 0, pi)))"
   ]
  },
  {
   "cell_type": "markdown",
   "metadata": {},
   "source": [
    "## Symbols"
   ]
  },
  {
   "cell_type": "code",
   "execution_count": 90,
   "metadata": {},
   "outputs": [
    {
     "ename": "NameError",
     "evalue": "name 'a' is not defined",
     "output_type": "error",
     "traceback": [
      "\u001b[1;31m------------------------------------------------------------\u001b[0m",
      "\u001b[1;31mNameError\u001b[0m                  Traceback (most recent call last)",
      "\u001b[1;32m<ipython-input-90-98b939904c8e>\u001b[0m in \u001b[0;36m<module>\u001b[1;34m\u001b[0m\n\u001b[1;32m----> 1\u001b[1;33m \u001b[0ma\u001b[0m\u001b[1;33m+\u001b[0m\u001b[1;36m1\u001b[0m\u001b[1;33m\u001b[0m\u001b[1;33m\u001b[0m\u001b[0m\n\u001b[0m",
      "\u001b[1;31mNameError\u001b[0m: name 'a' is not defined"
     ]
    }
   ],
   "source": [
    "a+1"
   ]
  },
  {
   "cell_type": "code",
   "execution_count": 91,
   "metadata": {},
   "outputs": [
    {
     "data": {
      "image/png": "[encoded data removed]",
      "text/latex": [
       "$\\displaystyle a + 1$"
      ],
      "text/plain": [
       "a + 1"
      ]
     },
     "execution_count": 91,
     "metadata": {},
     "output_type": "execute_result"
    }
   ],
   "source": [
    "a = symbols('a')\n",
    "a+1"
   ]
  },
  {
   "cell_type": "code",
   "execution_count": 92,
   "metadata": {},
   "outputs": [
    {
     "data": {
      "image/png": "[encoded data removed]",
      "text/latex": [
       "$\\displaystyle b + c^{a}$"
      ],
      "text/plain": [
       "     a\n",
       "b + c "
      ]
     },
     "execution_count": 92,
     "metadata": {},
     "output_type": "execute_result"
    }
   ],
   "source": [
    "b,c = symbols('b c')\n",
    "b+c**a"
   ]
  },
  {
   "cell_type": "code",
   "execution_count": 93,
   "metadata": {},
   "outputs": [
    {
     "data": {
      "image/png": "[encoded data removed]",
      "text/latex": [
       "$\\displaystyle a + 1$"
      ],
      "text/plain": [
       "a + 1"
      ]
     },
     "execution_count": 93,
     "metadata": {},
     "output_type": "execute_result"
    }
   ],
   "source": [
    "eq = a+1\n",
    "a=2\n",
    "eq"
   ]
  },
  {
   "cell_type": "code",
   "execution_count": 98,
   "metadata": {},
   "outputs": [
    {
     "data": {
      "image/png": "[encoded data removed]",
      "text/latex": [
       "$\\displaystyle 3$"
      ],
      "text/plain": [
       "3"
      ]
     },
     "execution_count": 98,
     "metadata": {},
     "output_type": "execute_result"
    }
   ],
   "source": [
    "a = symbols('a')\n",
    "eq = a+1\n",
    "eq.subs(a,2)"
   ]
  },
  {
   "cell_type": "code",
   "execution_count": 99,
   "metadata": {},
   "outputs": [
    {
     "data": {
      "image/png": "[encoded data removed]",
      "text/latex": [
       "$\\displaystyle a + 1 = 4$"
      ],
      "text/plain": [
       "a + 1 = 4"
      ]
     },
     "execution_count": 99,
     "metadata": {},
     "output_type": "execute_result"
    }
   ],
   "source": [
    "Eq(eq,4)"
   ]
  },
  {
   "cell_type": "code",
   "execution_count": 100,
   "metadata": {},
   "outputs": [
    {
     "data": {
      "image/png": "[encoded data removed]",
      "text/latex": [
       "$\\displaystyle - 2 a b + \\left(a + b\\right)^{2}$"
      ],
      "text/plain": [
       "                2\n",
       "-2⋅a⋅b + (a + b) "
      ]
     },
     "execution_count": 100,
     "metadata": {},
     "output_type": "execute_result"
    }
   ],
   "source": [
    "eq = (a+b)**2 - 2*a*b\n",
    "eq"
   ]
  },
  {
   "cell_type": "code",
   "execution_count": 102,
   "metadata": {},
   "outputs": [
    {
     "data": {
      "image/png": "[encoded data removed]",
      "text/latex": [
       "$\\displaystyle a^{2} + b^{2}$"
      ],
      "text/plain": [
       " 2    2\n",
       "a  + b "
      ]
     },
     "execution_count": 102,
     "metadata": {},
     "output_type": "execute_result"
    }
   ],
   "source": [
    "simplify(eq)"
   ]
  },
  {
   "cell_type": "code",
   "execution_count": 103,
   "metadata": {},
   "outputs": [
    {
     "data": {
      "text/plain": [
       "True"
      ]
     },
     "execution_count": 103,
     "metadata": {},
     "output_type": "execute_result"
    }
   ],
   "source": [
    "eq1 = cos(2*a)\n",
    "eq2 = cos(a)**2-sin(a)**2\n",
    "eq1.equals(eq2)"
   ]
  },
  {
   "cell_type": "markdown",
   "metadata": {},
   "source": [
    "## ^ and /"
   ]
  },
  {
   "cell_type": "code",
   "execution_count": 105,
   "metadata": {},
   "outputs": [
    {
     "data": {
      "text/plain": [
       "True"
      ]
     },
     "execution_count": 105,
     "metadata": {},
     "output_type": "execute_result"
    }
   ],
   "source": [
    "# ^ is xor\n",
    "True ^ False"
   ]
  },
  {
   "cell_type": "code",
   "execution_count": 106,
   "metadata": {},
   "outputs": [
    {
     "data": {
      "image/png": "[encoded data removed]",
      "text/latex": [
       "$\\displaystyle a \\veebar b$"
      ],
      "text/plain": [
       "a ⊻ b"
      ]
     },
     "execution_count": 106,
     "metadata": {},
     "output_type": "execute_result"
    }
   ],
   "source": [
    "Xor(a,b)"
   ]
  },
  {
   "cell_type": "code",
   "execution_count": 107,
   "metadata": {},
   "outputs": [
    {
     "data": {
      "image/png": "[encoded data removed]",
      "text/latex": [
       "$\\displaystyle a \\veebar b$"
      ],
      "text/plain": [
       "a ⊻ b"
      ]
     },
     "execution_count": 107,
     "metadata": {},
     "output_type": "execute_result"
    }
   ],
   "source": [
    "a ^ b"
   ]
  },
  {
   "cell_type": "code",
   "execution_count": 108,
   "metadata": {},
   "outputs": [
    {
     "data": {
      "image/png": "[encoded data removed]",
      "text/latex": [
       "$\\displaystyle 0.3333333333333333$"
      ],
      "text/plain": [
       "0.3333333333333333"
      ]
     },
     "execution_count": 108,
     "metadata": {},
     "output_type": "execute_result"
    }
   ],
   "source": [
    "1/3"
   ]
  },
  {
   "cell_type": "code",
   "execution_count": 111,
   "metadata": {},
   "outputs": [
    {
     "data": {
      "image/png": "[encoded data removed]",
      "text/latex": [
       "$\\displaystyle \\frac{1}{3}$"
      ],
      "text/plain": [
       "1/3"
      ]
     },
     "execution_count": 111,
     "metadata": {},
     "output_type": "execute_result"
    }
   ],
   "source": [
    "Integer(1)/Integer(3)"
   ]
  },
  {
   "cell_type": "code",
   "execution_count": 112,
   "metadata": {},
   "outputs": [
    {
     "data": {
      "image/png": "[encoded data removed]",
      "text/latex": [
       "$\\displaystyle \\frac{1}{3}$"
      ],
      "text/plain": [
       "1/3"
      ]
     },
     "execution_count": 112,
     "metadata": {},
     "output_type": "execute_result"
    }
   ],
   "source": [
    "Rational(1,3)"
   ]
  },
  {
   "cell_type": "code",
   "execution_count": 113,
   "metadata": {},
   "outputs": [
    {
     "data": {
      "image/png": "[encoded data removed]",
      "text/latex": [
       "$\\displaystyle a + 0.333333333333333$"
      ],
      "text/plain": [
       "a + 0.333333333333333"
      ]
     },
     "execution_count": 113,
     "metadata": {},
     "output_type": "execute_result"
    }
   ],
   "source": [
    "a+1/3"
   ]
  },
  {
   "cell_type": "code",
   "execution_count": 114,
   "metadata": {},
   "outputs": [
    {
     "data": {
      "image/png": "[encoded data removed]",
      "text/latex": [
       "$\\displaystyle a + \\frac{1}{3}$"
      ],
      "text/plain": [
       "a + 1/3"
      ]
     },
     "execution_count": 114,
     "metadata": {},
     "output_type": "execute_result"
    }
   ],
   "source": [
    "a + Rational(1,3)"
   ]
  },
  {
   "cell_type": "markdown",
   "metadata": {},
   "source": [
    "## Subs"
   ]
  },
  {
   "cell_type": "code",
   "execution_count": 116,
   "metadata": {},
   "outputs": [],
   "source": [
    "x, y = symbols('x y')"
   ]
  },
  {
   "cell_type": "code",
   "execution_count": 125,
   "metadata": {},
   "outputs": [
    {
     "data": {
      "image/png": "[encoded data removed]",
      "text/latex": [
       "$\\displaystyle x^{y}$"
      ],
      "text/plain": [
       " y\n",
       "x "
      ]
     },
     "execution_count": 125,
     "metadata": {},
     "output_type": "execute_result"
    }
   ],
   "source": [
    "eq = x**y\n",
    "eq"
   ]
  },
  {
   "cell_type": "code",
   "execution_count": 126,
   "metadata": {},
   "outputs": [
    {
     "data": {
      "image/png": "[encoded data removed]",
      "text/latex": [
       "$\\displaystyle 2^{y}$"
      ],
      "text/plain": [
       " y\n",
       "2 "
      ]
     },
     "execution_count": 126,
     "metadata": {},
     "output_type": "execute_result"
    }
   ],
   "source": [
    "eq.subs(x,2)"
   ]
  },
  {
   "cell_type": "code",
   "execution_count": 127,
   "metadata": {},
   "outputs": [
    {
     "data": {
      "image/png": "[encoded data removed]",
      "text/latex": [
       "$\\displaystyle \\left(x^{y}\\right)^{y}$"
      ],
      "text/plain": [
       "    y\n",
       "⎛ y⎞ \n",
       "⎝x ⎠ "
      ]
     },
     "execution_count": 127,
     "metadata": {},
     "output_type": "execute_result"
    }
   ],
   "source": [
    "eq.subs(x,x**y)"
   ]
  },
  {
   "cell_type": "code",
   "execution_count": 128,
   "metadata": {},
   "outputs": [
    {
     "data": {
      "image/png": "[encoded data removed]",
      "text/latex": [
       "$\\displaystyle 2^{\\pi}$"
      ],
      "text/plain": [
       " π\n",
       "2 "
      ]
     },
     "execution_count": 128,
     "metadata": {},
     "output_type": "execute_result"
    }
   ],
   "source": [
    "eq.subs([(x,2),(y,pi)])"
   ]
  },
  {
   "cell_type": "markdown",
   "metadata": {},
   "source": [
    "## Trigonometry expand"
   ]
  },
  {
   "cell_type": "code",
   "execution_count": 123,
   "metadata": {},
   "outputs": [
    {
     "data": {
      "image/png": "[encoded data removed]",
      "text/latex": [
       "$\\displaystyle 2 \\sin{\\left(x \\right)} \\cos{\\left(x \\right)} + 2 \\cos^{2}{\\left(x \\right)} - 1$"
      ],
      "text/plain": [
       "                       2       \n",
       "2⋅sin(x)⋅cos(x) + 2⋅cos (x) - 1"
      ]
     },
     "execution_count": 123,
     "metadata": {},
     "output_type": "execute_result"
    }
   ],
   "source": [
    "eq = sin(2*x) + cos(2*x)\n",
    "expand_trig(eq)"
   ]
  },
  {
   "cell_type": "markdown",
   "metadata": {},
   "source": [
    "## sympify"
   ]
  },
  {
   "cell_type": "code",
   "execution_count": 132,
   "metadata": {},
   "outputs": [
    {
     "data": {
      "image/png": "[encoded data removed]",
      "text/latex": [
       "$\\displaystyle e^{x} + x^{2} + 2 x y + \\cos{\\left(x \\right)}$"
      ],
      "text/plain": [
       " x    2                 \n",
       "e  + x  + 2⋅x⋅y + cos(x)"
      ]
     },
     "execution_count": 132,
     "metadata": {},
     "output_type": "execute_result"
    }
   ],
   "source": [
    "#sympify uses eval\n",
    "eq = sympify('x**2+cos(x)+2*x*y+e**x')\n",
    "eq"
   ]
  },
  {
   "cell_type": "markdown",
   "metadata": {},
   "source": [
    "## evalf"
   ]
  },
  {
   "cell_type": "code",
   "execution_count": 133,
   "metadata": {},
   "outputs": [
    {
     "data": {
      "image/png": "[encoded data removed]",
      "text/latex": [
       "$\\displaystyle 2 \\sqrt{2}$"
      ],
      "text/plain": [
       "2⋅√2"
      ]
     },
     "execution_count": 133,
     "metadata": {},
     "output_type": "execute_result"
    }
   ],
   "source": [
    "sqrt(8)"
   ]
  },
  {
   "cell_type": "code",
   "execution_count": 135,
   "metadata": {},
   "outputs": [
    {
     "data": {
      "image/png": "[encoded data removed]",
      "text/latex": [
       "$\\displaystyle 2.82842712474619$"
      ],
      "text/plain": [
       "2.82842712474619"
      ]
     },
     "execution_count": 135,
     "metadata": {},
     "output_type": "execute_result"
    }
   ],
   "source": [
    "sqrt(8).evalf()"
   ]
  },
  {
   "cell_type": "code",
   "execution_count": 138,
   "metadata": {},
   "outputs": [
    {
     "data": {
      "image/png": "[encoded data removed]",
      "text/latex": [
       "$\\displaystyle 3.141592653589793238462643383279502884197169399375105820974944592307816406286208998628034825342117068$"
      ],
      "text/plain": [
       "3.1415926535897932384626433832795028841971693993751058209749445923078164062862\n",
       "08998628034825342117068"
      ]
     },
     "execution_count": 138,
     "metadata": {},
     "output_type": "execute_result"
    }
   ],
   "source": [
    "pi.evalf(100)"
   ]
  },
  {
   "cell_type": "code",
   "execution_count": 140,
   "metadata": {},
   "outputs": [
    {
     "data": {
      "image/png": "[encoded data removed]",
      "text/latex": [
       "$\\displaystyle 0.424179007336997$"
      ],
      "text/plain": [
       "0.424179007336997"
      ]
     },
     "execution_count": 140,
     "metadata": {},
     "output_type": "execute_result"
    }
   ],
   "source": [
    "eq = cos(2*x)\n",
    "eq.evalf(subs = {x:12})"
   ]
  },
  {
   "cell_type": "code",
   "execution_count": 142,
   "metadata": {},
   "outputs": [
    {
     "data": {
      "image/png": "[encoded data removed]",
      "text/latex": [
       "$\\displaystyle -4.0 \\cdot 10^{-124}$"
      ],
      "text/plain": [
       "-0.e-124"
      ]
     },
     "execution_count": 142,
     "metadata": {},
     "output_type": "execute_result"
    }
   ],
   "source": [
    "one = sin(1)**2+cos(1)**2\n",
    "(one-1).evalf()"
   ]
  },
  {
   "cell_type": "code",
   "execution_count": 143,
   "metadata": {},
   "outputs": [
    {
     "data": {
      "image/png": "[encoded data removed]",
      "text/latex": [
       "$\\displaystyle 0$"
      ],
      "text/plain": [
       "0"
      ]
     },
     "execution_count": 143,
     "metadata": {},
     "output_type": "execute_result"
    }
   ],
   "source": [
    "(one-1).evalf(chop=True)"
   ]
  },
  {
   "cell_type": "markdown",
   "metadata": {},
   "source": [
    "## Numpy"
   ]
  },
  {
   "cell_type": "code",
   "execution_count": 147,
   "metadata": {},
   "outputs": [
    {
     "data": {
      "text/plain": [
       "array([ 0.        ,  0.84147098,  0.90929743,  0.14112001, -0.7568025 ,\n",
       "       -0.95892427, -0.2794155 ,  0.6569866 ,  0.98935825,  0.41211849])"
      ]
     },
     "execution_count": 147,
     "metadata": {},
     "output_type": "execute_result"
    }
   ],
   "source": [
    "import numpy as np\n",
    "a = np.arange(10)\n",
    "\n",
    "eq = sin(x)\n",
    "f = lambdify(x, eq, 'numpy')\n",
    "f(a)"
   ]
  },
  {
   "cell_type": "code",
   "execution_count": 169,
   "metadata": {},
   "outputs": [
    {
     "data": {
      "text/plain": [
       "array([0, 1, 2, 3, 4, 5, 6, 7, 8, 9])"
      ]
     },
     "execution_count": 169,
     "metadata": {},
     "output_type": "execute_result"
    }
   ],
   "source": [
    "def mysin(x):\n",
    "    return x\n",
    "f = lambdify(x, eq, {'sin':mysin})\n",
    "f(a)"
   ]
  },
  {
   "cell_type": "markdown",
   "metadata": {},
   "source": [
    "## Printing"
   ]
  },
  {
   "cell_type": "code",
   "execution_count": 170,
   "metadata": {},
   "outputs": [
    {
     "data": {
      "image/png": "[encoded data removed]",
      "text/latex": [
       "$\\displaystyle \\sin{\\left(x \\right)}$"
      ],
      "text/plain": [
       "sin(x)"
      ]
     },
     "execution_count": 170,
     "metadata": {},
     "output_type": "execute_result"
    }
   ],
   "source": [
    "init_printing()\n",
    "eq"
   ]
  },
  {
   "cell_type": "code",
   "execution_count": 172,
   "metadata": {},
   "outputs": [
    {
     "name": "stdout",
     "output_type": "stream",
     "text": [
      "IPython console for SymPy 1.4 (Python 3.7.4-64-bit) (ground types: python)\n",
      "\n",
      "These commands were executed:\n",
      ">>> from __future__ import division\n",
      ">>> from sympy import *\n",
      ">>> x, y, z, t = symbols('x y z t')\n",
      ">>> k, m, n = symbols('k m n', integer=True)\n",
      ">>> f, g, h = symbols('f g h', cls=Function)\n",
      ">>> init_printing()\n",
      "\n",
      "Documentation can be found at https://docs.sympy.org/1.4/\n",
      "\n"
     ]
    }
   ],
   "source": [
    "init_session()"
   ]
  },
  {
   "cell_type": "code",
   "execution_count": 175,
   "metadata": {},
   "outputs": [
    {
     "data": {
      "image/png": "[encoded data removed]",
      "text/latex": [
       "$\\displaystyle \\int\\limits_{-\\infty}^{\\infty} e^{- x^{2}}\\, dx$"
      ],
      "text/plain": [
       "∞         \n",
       "⌠         \n",
       "⎮     2   \n",
       "⎮   -x    \n",
       "⎮  ℯ    dx\n",
       "⌡         \n",
       "-∞        "
      ]
     },
     "execution_count": 175,
     "metadata": {},
     "output_type": "execute_result"
    }
   ],
   "source": [
    "i = Integral(exp(-x**2), (x, -oo, oo))\n",
    "i"
   ]
  },
  {
   "cell_type": "code",
   "execution_count": 176,
   "metadata": {},
   "outputs": [
    {
     "name": "stdout",
     "output_type": "stream",
     "text": [
      "Integral(exp(-x**2), (x, -oo, oo))\n"
     ]
    }
   ],
   "source": [
    "print(i)"
   ]
  },
  {
   "cell_type": "code",
   "execution_count": 177,
   "metadata": {},
   "outputs": [
    {
     "data": {
      "text/plain": [
       "\"Integral(exp(Mul(Integer(-1), Pow(Symbol('x'), Integer(2)))), Tuple(Symbol('x'), -oo, oo))\""
      ]
     },
     "execution_count": 177,
     "metadata": {},
     "output_type": "execute_result"
    }
   ],
   "source": [
    "srepr(i)"
   ]
  },
  {
   "cell_type": "code",
   "execution_count": 181,
   "metadata": {},
   "outputs": [
    {
     "name": "stdout",
     "output_type": "stream",
     "text": [
      "∞         \n",
      "⌠         \n",
      "⎮     2   \n",
      "⎮   -x    \n",
      "⎮  ℯ    dx\n",
      "⌡         \n",
      "-∞        \n",
      " oo        \n",
      "  /        \n",
      " |         \n",
      " |     2   \n",
      " |   -x    \n",
      " |  e    dx\n",
      " |         \n",
      "/          \n",
      "-oo        \n"
     ]
    }
   ],
   "source": [
    "pprint(i)\n",
    "pprint(i, use_unicode = False)"
   ]
  },
  {
   "cell_type": "code",
   "execution_count": 183,
   "metadata": {},
   "outputs": [
    {
     "data": {
      "text/plain": [
       "' oo        \\n  /        \\n |         \\n |     2   \\n |   -x    \\n |  e    dx\\n |         \\n/          \\n-oo        '"
      ]
     },
     "execution_count": 183,
     "metadata": {},
     "output_type": "execute_result"
    }
   ],
   "source": [
    "pretty(i, use_unicode = False)"
   ]
  },
  {
   "cell_type": "code",
   "execution_count": 184,
   "metadata": {},
   "outputs": [
    {
     "name": "stdout",
     "output_type": "stream",
     "text": [
      " oo        \n",
      "  /        \n",
      " |         \n",
      " |     2   \n",
      " |   -x    \n",
      " |  e    dx\n",
      " |         \n",
      "/          \n",
      "-oo        \n"
     ]
    }
   ],
   "source": [
    "print(pretty(i, use_unicode = False))"
   ]
  },
  {
   "cell_type": "markdown",
   "metadata": {},
   "source": [
    "## rewrite"
   ]
  },
  {
   "cell_type": "code",
   "execution_count": 191,
   "metadata": {},
   "outputs": [
    {
     "data": {
      "image/png": "[encoded data removed]",
      "text/latex": [
       "$\\displaystyle \\frac{2 \\sin^{2}{\\left(x \\right)}}{\\sin{\\left(2 x \\right)}}$"
      ],
      "text/plain": [
       "     2   \n",
       "2⋅sin (x)\n",
       "─────────\n",
       " sin(2⋅x)"
      ]
     },
     "execution_count": 191,
     "metadata": {},
     "output_type": "execute_result"
    }
   ],
   "source": [
    "tan(x).rewrite(sin)"
   ]
  },
  {
   "cell_type": "code",
   "execution_count": 193,
   "metadata": {},
   "outputs": [
    {
     "data": {
      "image/png": "[encoded data removed]",
      "text/latex": [
       "$\\displaystyle \\frac{\\cos{\\left(x - \\frac{\\pi}{2} \\right)}}{\\cos{\\left(x \\right)}}$"
      ],
      "text/plain": [
       "   ⎛    π⎞\n",
       "cos⎜x - ─⎟\n",
       "   ⎝    2⎠\n",
       "──────────\n",
       "  cos(x)  "
      ]
     },
     "execution_count": 193,
     "metadata": {},
     "output_type": "execute_result"
    }
   ],
   "source": [
    "tan(x).rewrite(cos)"
   ]
  },
  {
   "cell_type": "code",
   "execution_count": 194,
   "metadata": {},
   "outputs": [
    {
     "data": {
      "image/png": "[encoded data removed]",
      "text/latex": [
       "$\\displaystyle \\Gamma\\left(x + 1\\right)$"
      ],
      "text/plain": [
       "Γ(x + 1)"
      ]
     },
     "execution_count": 194,
     "metadata": {},
     "output_type": "execute_result"
    }
   ],
   "source": [
    "factorial(x).rewrite(gamma)"
   ]
  },
  {
   "cell_type": "markdown",
   "metadata": {},
   "source": [
    "## Double integral"
   ]
  },
  {
   "cell_type": "code",
   "execution_count": 197,
   "metadata": {},
   "outputs": [
    {
     "data": {
      "image/png": "[encoded data removed]",
      "text/latex": [
       "$\\displaystyle \\int\\limits_{-\\infty}^{\\infty}\\int\\limits_{-\\infty}^{\\infty} e^{- x^{2} - y^{2}}\\, dx\\, dy = \\pi$"
      ],
      "text/plain": [
       "∞  ∞                      \n",
       "⌠  ⌠                      \n",
       "⎮  ⎮      2    2          \n",
       "⎮  ⎮   - x  - y           \n",
       "⎮  ⎮  ℯ          dx dy = π\n",
       "⌡  ⌡                      \n",
       "-∞ -∞                     "
      ]
     },
     "execution_count": 197,
     "metadata": {},
     "output_type": "execute_result"
    }
   ],
   "source": [
    "i = Integral(exp(-x**2 - y**2), (x, -oo, oo), (y, -oo, oo))\n",
    "Eq(i,i.doit())"
   ]
  },
  {
   "cell_type": "markdown",
   "metadata": {},
   "source": [
    "## Plotting"
   ]
  },
  {
   "cell_type": "code",
   "execution_count": 198,
   "metadata": {},
   "outputs": [],
   "source": [
    "from sympy.plotting import plot"
   ]
  },
  {
   "cell_type": "code",
   "execution_count": 203,
   "metadata": {},
   "outputs": [],
   "source": [
    "p = plot(x**2)"
   ]
  },
  {
   "cell_type": "code",
   "execution_count": 215,
   "metadata": {},
   "outputs": [
    {
     "data": {
      "text/plain": [
       "<sympy.plotting.plot.Plot at 0x1b7ecca5a08>"
      ]
     },
     "execution_count": 215,
     "metadata": {},
     "output_type": "execute_result"
    }
   ],
   "source": [
    "f = x**2\n",
    "g = sin(x)\n",
    "plot(f,g)"
   ]
  },
  {
   "cell_type": "code",
   "execution_count": 237,
   "metadata": {},
   "outputs": [
    {
     "data": {
      "text/plain": [
       "<sympy.plotting.plot.Plot at 0x1b7fc0d9888>"
      ]
     },
     "execution_count": 237,
     "metadata": {},
     "output_type": "execute_result"
    }
   ],
   "source": [
    "g = f.subs(x,1)+f.diff().subs(x,1)*(x-1)\n",
    "plot(f,g)"
   ]
  },
  {
   "cell_type": "code",
   "execution_count": 238,
   "metadata": {},
   "outputs": [],
   "source": [
    " from sympy.plotting import plot3d"
   ]
  },
  {
   "cell_type": "code",
   "execution_count": 241,
   "metadata": {},
   "outputs": [
    {
     "data": {
      "text/plain": [
       "<sympy.plotting.plot.Plot at 0x1b7eb717c48>"
      ]
     },
     "execution_count": 241,
     "metadata": {},
     "output_type": "execute_result"
    }
   ],
   "source": [
    "h = sin(x)+cos(y)\n",
    "plot3d(h)"
   ]
  }
 ],
 "metadata": {
  "kernelspec": {
   "display_name": "Python 3",
   "language": "python",
   "name": "python3"
  },
  "language_info": {
   "codemirror_mode": {
    "name": "ipython",
    "version": 3
   },
   "file_extension": ".py",
   "mimetype": "text/x-python",
   "name": "python",
   "nbconvert_exporter": "python",
   "pygments_lexer": "ipython3",
   "version": "3.7.6"
  }
 },
 "nbformat": 4,
 "nbformat_minor": 2
}
