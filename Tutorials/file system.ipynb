{
 "cells": [
  {
   "cell_type": "code",
   "execution_count": 45,
   "metadata": {},
   "outputs": [],
   "source": [
    "import requests\n",
    "def download_img(image_url,file_path):\n",
    "    with open(file_path, 'wb') as f:\n",
    "        f.write(requests.get(image_url).content)"
   ]
  },
  {
   "cell_type": "code",
   "execution_count": 46,
   "metadata": {},
   "outputs": [],
   "source": [
    "from urllib import request\n",
    "def read_html(url):\n",
    "    with request.urlopen(url) as s:\n",
    "        return s.read()"
   ]
  },
  {
   "cell_type": "code",
   "execution_count": 52,
   "metadata": {},
   "outputs": [],
   "source": [
    "def find_img_urls(html):\n",
    "    html = str(html)\n",
    "    imgs = []\n",
    "    for x in html.split(' '):\n",
    "        if x.startswith('data-thumb=\"'):\n",
    "            img_url = x[12:-1]\n",
    "            if img_url.startswith(\"https://\"):\n",
    "                imgs.append(x[12:-1])\n",
    "    return imgs\n"
   ]
  },
  {
   "cell_type": "code",
   "execution_count": 71,
   "metadata": {},
   "outputs": [],
   "source": [
    "import uuid\n",
    "def all_imgs_from_url(url):\n",
    "    img_urls = find_img_urls(read_html(url))\n",
    "    for img in img_urls:\n",
    "        download_img(img,\"C:\\\\Users\\\\Varuzhan\\\\Desktop\\\\Images\\\\\"+ str(uuid.uuid4())+'.jpg')\n",
    "    print('Succesfuly downloaded ',len(img_urls), ' images!')"
   ]
  },
  {
   "cell_type": "code",
   "execution_count": 74,
   "metadata": {},
   "outputs": [
    {
     "name": "stdout",
     "output_type": "stream",
     "text": [
      "Succesfuly downloaded  21  images!\n"
     ]
    }
   ],
   "source": [
    "url = \"https://www.youtube.com/watch?v=2WtuOwmbisw\"\n",
    "all_imgs_from_url(url)"
   ]
  },
  {
   "cell_type": "code",
   "execution_count": null,
   "metadata": {},
   "outputs": [],
   "source": []
  }
 ],
 "metadata": {
  "kernelspec": {
   "display_name": "Python 3",
   "language": "python",
   "name": "python3"
  },
  "language_info": {
   "codemirror_mode": {
    "name": "ipython",
    "version": 3
   },
   "file_extension": ".py",
   "mimetype": "text/x-python",
   "name": "python",
   "nbconvert_exporter": "python",
   "pygments_lexer": "ipython3",
   "version": "3.7.4"
  }
 },
 "nbformat": 4,
 "nbformat_minor": 2
}
