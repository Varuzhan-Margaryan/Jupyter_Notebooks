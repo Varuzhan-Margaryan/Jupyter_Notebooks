{
 "cells": [
  {
   "cell_type": "markdown",
   "metadata": {},
   "source": [
    "# Advanced Sympy Tutorial"
   ]
  },
  {
   "cell_type": "markdown",
   "metadata": {},
   "source": [
    "## Import and init"
   ]
  },
  {
   "cell_type": "code",
   "execution_count": 58,
   "metadata": {},
   "outputs": [
    {
     "name": "stdout",
     "output_type": "stream",
     "text": [
      "IPython console for SymPy 1.4 (Python 3.7.4-64-bit) (ground types: python)\n",
      "\n",
      "These commands were executed:\n",
      ">>> from __future__ import division\n",
      ">>> from sympy import *\n",
      ">>> x, y, z, t = symbols('x y z t')\n",
      ">>> k, m, n = symbols('k m n', integer=True)\n",
      ">>> f, g, h = symbols('f g h', cls=Function)\n",
      ">>> init_printing()\n",
      "\n",
      "Documentation can be found at https://docs.sympy.org/1.4/\n",
      "\n"
     ]
    }
   ],
   "source": [
    "import sympy\n",
    "sympy.init_session()"
   ]
  },
  {
   "cell_type": "markdown",
   "metadata": {},
   "source": [
    "## Calculus"
   ]
  },
  {
   "cell_type": "code",
   "execution_count": 5,
   "metadata": {},
   "outputs": [
    {
     "data": {
      "text/plain": [
       "False"
      ]
     },
     "execution_count": 5,
     "metadata": {},
     "output_type": "execute_result"
    }
   ],
   "source": [
    "is_decreasing(x**2)"
   ]
  },
  {
   "cell_type": "code",
   "execution_count": 7,
   "metadata": {},
   "outputs": [
    {
     "data": {
      "text/plain": [
       "True"
      ]
     },
     "execution_count": 7,
     "metadata": {},
     "output_type": "execute_result"
    }
   ],
   "source": [
    "is_decreasing(x**2, Interval.Lopen(-oo, 0))"
   ]
  },
  {
   "cell_type": "code",
   "execution_count": 10,
   "metadata": {},
   "outputs": [
    {
     "data": {
      "text/plain": [
       "False"
      ]
     },
     "execution_count": 10,
     "metadata": {},
     "output_type": "execute_result"
    }
   ],
   "source": [
    "is_monotonic(x**4)"
   ]
  },
  {
   "cell_type": "code",
   "execution_count": 17,
   "metadata": {},
   "outputs": [
    {
     "data": {
      "image/png": "[encoded data removed]",
      "text/latex": [
       "$\\displaystyle \\emptyset$"
      ],
      "text/plain": [
       "∅"
      ]
     },
     "execution_count": 17,
     "metadata": {},
     "output_type": "execute_result"
    }
   ],
   "source": [
    "#ԹԱԲ\n",
    "singularities(x**3-5*x**2-9*x-15, x)"
   ]
  },
  {
   "cell_type": "code",
   "execution_count": 19,
   "metadata": {},
   "outputs": [
    {
     "data": {
      "image/png": "[encoded data removed]",
      "text/latex": [
       "$\\displaystyle \\left\\{0\\right\\}$"
      ],
      "text/plain": [
       "{0}"
      ]
     },
     "execution_count": 19,
     "metadata": {},
     "output_type": "execute_result"
    }
   ],
   "source": [
    "singularities(1/x**2, x)"
   ]
  },
  {
   "cell_type": "code",
   "execution_count": 23,
   "metadata": {},
   "outputs": [
    {
     "data": {
      "image/png": "[encoded data removed]",
      "text/latex": [
       "$\\displaystyle \\left[-1, 1\\right]$"
      ],
      "text/plain": [
       "[-1, 1]"
      ]
     },
     "execution_count": 23,
     "metadata": {},
     "output_type": "execute_result"
    }
   ],
   "source": [
    "from sympy.calculus.util import function_range\n",
    "function_range(sin(x), x, Interval(-oo,oo))"
   ]
  },
  {
   "cell_type": "code",
   "execution_count": 26,
   "metadata": {},
   "outputs": [
    {
     "data": {
      "text/plain": [
       "True"
      ]
     },
     "execution_count": 26,
     "metadata": {},
     "output_type": "execute_result"
    }
   ],
   "source": [
    "from sympy.calculus.util import is_convex\n",
    "is_convex(exp(x), x)"
   ]
  },
  {
   "cell_type": "code",
   "execution_count": 102,
   "metadata": {},
   "outputs": [
    {
     "data": {
      "image/png": "[encoded data removed]",
      "text/latex": [
       "$\\displaystyle - 4 \\cos{\\left(x \\right)} + \\cos{\\left(2 x \\right)} + \\frac{\\pi^{2}}{3} + \\ldots$"
      ],
      "text/plain": [
       "                        2    \n",
       "                       π     \n",
       "-4⋅cos(x) + cos(2⋅x) + ── + …\n",
       "                       3     "
      ]
     },
     "execution_count": 102,
     "metadata": {},
     "output_type": "execute_result"
    }
   ],
   "source": [
    "fourier_series(x**2)"
   ]
  },
  {
   "cell_type": "markdown",
   "metadata": {},
   "source": [
    "## Linear algebra"
   ]
  },
  {
   "cell_type": "code",
   "execution_count": 37,
   "metadata": {},
   "outputs": [
    {
     "data": {
      "text/latex": [
       "$\\displaystyle \\left[\\begin{matrix}1 & 2 & 3\\\\4 & 5 & 6\\\\9 & 7 & 8\\end{matrix}\\right]$"
      ],
      "text/plain": [
       "⎡1  2  3⎤\n",
       "⎢       ⎥\n",
       "⎢4  5  6⎥\n",
       "⎢       ⎥\n",
       "⎣9  7  8⎦"
      ]
     },
     "execution_count": 37,
     "metadata": {},
     "output_type": "execute_result"
    }
   ],
   "source": [
    "M = Matrix((\n",
    "    [1,2,3],\n",
    "    [4,5,6],\n",
    "    [9,7,8]))\n",
    "M"
   ]
  },
  {
   "cell_type": "code",
   "execution_count": 38,
   "metadata": {},
   "outputs": [
    {
     "data": {
      "image/png": "[encoded data removed]",
      "text/latex": [
       "$\\displaystyle -9$"
      ],
      "text/plain": [
       "-9"
      ]
     },
     "execution_count": 38,
     "metadata": {},
     "output_type": "execute_result"
    }
   ],
   "source": [
    "M.det()"
   ]
  },
  {
   "cell_type": "code",
   "execution_count": 39,
   "metadata": {},
   "outputs": [
    {
     "data": {
      "text/latex": [
       "$\\displaystyle \\left[\\begin{matrix}\\frac{2}{9} & - \\frac{5}{9} & \\frac{1}{3}\\\\- \\frac{22}{9} & \\frac{19}{9} & - \\frac{2}{3}\\\\\\frac{17}{9} & - \\frac{11}{9} & \\frac{1}{3}\\end{matrix}\\right]$"
      ],
      "text/plain": [
       "⎡ 2/9   -5/9   1/3 ⎤\n",
       "⎢                  ⎥\n",
       "⎢-22/9  19/9   -2/3⎥\n",
       "⎢                  ⎥\n",
       "⎣17/9   -11/9  1/3 ⎦"
      ]
     },
     "execution_count": 39,
     "metadata": {},
     "output_type": "execute_result"
    }
   ],
   "source": [
    "M.inv()"
   ]
  },
  {
   "cell_type": "code",
   "execution_count": 61,
   "metadata": {},
   "outputs": [
    {
     "data": {
      "text/latex": [
       "$\\displaystyle \\left( \\left[\\begin{matrix}\\frac{\\sqrt{2}}{14} & \\frac{111 \\sqrt{838}}{5866} & \\frac{17 \\sqrt{419}}{419}\\\\\\frac{2 \\sqrt{2}}{7} & \\frac{75 \\sqrt{838}}{2933} & - \\frac{11 \\sqrt{419}}{419}\\\\\\frac{9 \\sqrt{2}}{14} & - \\frac{79 \\sqrt{838}}{5866} & \\frac{3 \\sqrt{419}}{419}\\end{matrix}\\right], \\  \\left[\\begin{matrix}7 \\sqrt{2} & \\frac{85 \\sqrt{2}}{14} & \\frac{99 \\sqrt{2}}{14}\\\\0 & \\frac{\\sqrt{838}}{14} & \\frac{601 \\sqrt{838}}{5866}\\\\0 & 0 & \\frac{9 \\sqrt{419}}{419}\\end{matrix}\\right]\\right)$"
      ],
      "text/plain": [
       "⎛⎡ √2   111⋅√838    17⋅√419 ⎤  ⎡      85⋅√2   99⋅√2  ⎤⎞\n",
       "⎜⎢ ──   ────────    ─────── ⎥  ⎢7⋅√2  ─────   ─────  ⎥⎟\n",
       "⎜⎢ 14     5866        419   ⎥  ⎢        14      14   ⎥⎟\n",
       "⎜⎢                          ⎥  ⎢                     ⎥⎟\n",
       "⎜⎢2⋅√2   75⋅√838   -11⋅√419 ⎥  ⎢      √838   601⋅√838⎥⎟\n",
       "⎜⎢────   ───────   ─────────⎥, ⎢ 0    ────   ────────⎥⎟\n",
       "⎜⎢ 7       2933       419   ⎥  ⎢       14      5866  ⎥⎟\n",
       "⎜⎢                          ⎥  ⎢                     ⎥⎟\n",
       "⎜⎢9⋅√2  -79⋅√838    3⋅√419  ⎥  ⎢              9⋅√419 ⎥⎟\n",
       "⎜⎢────  ─────────   ──────  ⎥  ⎢ 0      0     ────── ⎥⎟\n",
       "⎝⎣ 14      5866      419    ⎦  ⎣               419   ⎦⎠"
      ]
     },
     "execution_count": 61,
     "metadata": {},
     "output_type": "execute_result"
    }
   ],
   "source": [
    "Q, R = M.QRdecomposition()\n",
    "Q , R"
   ]
  },
  {
   "cell_type": "code",
   "execution_count": 44,
   "metadata": {},
   "outputs": [
    {
     "data": {
      "image/png": "[encoded data removed]",
      "text/latex": [
       "$\\displaystyle \\sqrt{285}$"
      ],
      "text/plain": [
       "√285"
      ]
     },
     "execution_count": 44,
     "metadata": {},
     "output_type": "execute_result"
    }
   ],
   "source": [
    "M.norm()"
   ]
  },
  {
   "cell_type": "code",
   "execution_count": 45,
   "metadata": {},
   "outputs": [
    {
     "data": {
      "image/png": "[encoded data removed]",
      "text/latex": [
       "$\\displaystyle 3$"
      ],
      "text/plain": [
       "3"
      ]
     },
     "execution_count": 45,
     "metadata": {},
     "output_type": "execute_result"
    }
   ],
   "source": [
    "M.rank()"
   ]
  },
  {
   "cell_type": "code",
   "execution_count": 51,
   "metadata": {},
   "outputs": [
    {
     "data": {
      "image/png": "[encoded data removed]",
      "text/latex": [
       "$\\displaystyle 14$"
      ],
      "text/plain": [
       "14"
      ]
     },
     "execution_count": 51,
     "metadata": {},
     "output_type": "execute_result"
    }
   ],
   "source": [
    "M.trace()"
   ]
  },
  {
   "cell_type": "code",
   "execution_count": 55,
   "metadata": {},
   "outputs": [
    {
     "data": {
      "text/latex": [
       "$\\displaystyle \\left[\\begin{matrix}\\frac{- 49614 \\cdot 2^{\\frac{2}{3}} - 1608 \\sqrt{3} i \\sqrt[3]{16538 + 54 \\sqrt{11823} i} - 162 \\sqrt{11823} \\cdot 2^{\\frac{2}{3}} i + 1608 \\sqrt[3]{16538 + 54 \\sqrt{11823} i} + 66 \\left(8269 + 27 \\sqrt{11823} i\\right)^{\\frac{2}{3}} + 66 \\sqrt{3} i \\left(8269 + 27 \\sqrt{11823} i\\right)^{\\frac{2}{3}}}{- 150892 \\cdot 2^{\\frac{2}{3}} - 4543 \\sqrt[3]{2} \\sqrt{3} i \\sqrt[3]{8269 + 27 \\sqrt{11823} i} - 180 \\sqrt{11823} \\cdot 2^{\\frac{2}{3}} i + 27 \\sqrt[3]{2} \\sqrt{3941} \\sqrt[3]{8269 + 27 \\sqrt{11823} i} + 4543 \\sqrt[3]{2} \\sqrt[3]{8269 + 27 \\sqrt{11823} i} + 9 \\sqrt{11823} \\sqrt[3]{2} i \\sqrt[3]{8269 + 27 \\sqrt{11823} i} + 302 \\left(8269 + 27 \\sqrt{11823} i\\right)^{\\frac{2}{3}} + 302 \\sqrt{3} i \\left(8269 + 27 \\sqrt{11823} i\\right)^{\\frac{2}{3}}} & \\frac{49614 \\cdot 2^{\\frac{2}{3}} - 1608 \\sqrt{3} i \\sqrt[3]{16538 + 54 \\sqrt{11823} i} - 66 \\left(8269 + 27 \\sqrt{11823} i\\right)^{\\frac{2}{3}} - 1608 \\sqrt[3]{16538 + 54 \\sqrt{11823} i} + 162 \\sqrt{11823} \\cdot 2^{\\frac{2}{3}} i + 66 \\sqrt{3} i \\left(8269 + 27 \\sqrt{11823} i\\right)^{\\frac{2}{3}}}{150892 \\cdot 2^{\\frac{2}{3}} - 4543 \\sqrt[3]{2} \\sqrt{3} i \\sqrt[3]{8269 + 27 \\sqrt{11823} i} - 302 \\left(8269 + 27 \\sqrt{11823} i\\right)^{\\frac{2}{3}} - 9 \\sqrt{11823} \\sqrt[3]{2} i \\sqrt[3]{8269 + 27 \\sqrt{11823} i} - 4543 \\sqrt[3]{2} \\sqrt[3]{8269 + 27 \\sqrt{11823} i} + 27 \\sqrt[3]{2} \\sqrt{3941} \\sqrt[3]{8269 + 27 \\sqrt{11823} i} + 180 \\sqrt{11823} \\cdot 2^{\\frac{2}{3}} i + 302 \\sqrt{3} i \\left(8269 + 27 \\sqrt{11823} i\\right)^{\\frac{2}{3}}} & \\frac{24807 \\cdot 2^{\\frac{2}{3}} + 1608 \\sqrt[3]{16538 + 54 \\sqrt{11823} i} + 66 \\left(8269 + 27 \\sqrt{11823} i\\right)^{\\frac{2}{3}} + 81 \\sqrt{11823} \\cdot 2^{\\frac{2}{3}} i}{75446 \\cdot 2^{\\frac{2}{3}} + 4543 \\sqrt[3]{2} \\sqrt[3]{8269 + 27 \\sqrt{11823} i} + 90 \\sqrt{11823} \\cdot 2^{\\frac{2}{3}} i + 9 \\sqrt{11823} \\sqrt[3]{2} i \\sqrt[3]{8269 + 27 \\sqrt{11823} i} + 302 \\left(8269 + 27 \\sqrt{11823} i\\right)^{\\frac{2}{3}}}\\\\\\frac{- 99228 \\cdot 2^{\\frac{2}{3}} - 3216 \\sqrt{3} i \\sqrt[3]{16538 + 54 \\sqrt{11823} i} - 324 \\sqrt{11823} \\cdot 2^{\\frac{2}{3}} i + 3216 \\sqrt[3]{16538 + 54 \\sqrt{11823} i} + 204 \\left(8269 + 27 \\sqrt{11823} i\\right)^{\\frac{2}{3}} + 204 \\sqrt{3} i \\left(8269 + 27 \\sqrt{11823} i\\right)^{\\frac{2}{3}}}{- 150892 \\cdot 2^{\\frac{2}{3}} - 4543 \\sqrt[3]{2} \\sqrt{3} i \\sqrt[3]{8269 + 27 \\sqrt{11823} i} - 180 \\sqrt{11823} \\cdot 2^{\\frac{2}{3}} i + 27 \\sqrt[3]{2} \\sqrt{3941} \\sqrt[3]{8269 + 27 \\sqrt{11823} i} + 4543 \\sqrt[3]{2} \\sqrt[3]{8269 + 27 \\sqrt{11823} i} + 9 \\sqrt{11823} \\sqrt[3]{2} i \\sqrt[3]{8269 + 27 \\sqrt{11823} i} + 302 \\left(8269 + 27 \\sqrt{11823} i\\right)^{\\frac{2}{3}} + 302 \\sqrt{3} i \\left(8269 + 27 \\sqrt{11823} i\\right)^{\\frac{2}{3}}} & \\frac{99228 \\cdot 2^{\\frac{2}{3}} - 3216 \\sqrt{3} i \\sqrt[3]{16538 + 54 \\sqrt{11823} i} - 204 \\left(8269 + 27 \\sqrt{11823} i\\right)^{\\frac{2}{3}} - 3216 \\sqrt[3]{16538 + 54 \\sqrt{11823} i} + 324 \\sqrt{11823} \\cdot 2^{\\frac{2}{3}} i + 204 \\sqrt{3} i \\left(8269 + 27 \\sqrt{11823} i\\right)^{\\frac{2}{3}}}{150892 \\cdot 2^{\\frac{2}{3}} - 4543 \\sqrt[3]{2} \\sqrt{3} i \\sqrt[3]{8269 + 27 \\sqrt{11823} i} - 302 \\left(8269 + 27 \\sqrt{11823} i\\right)^{\\frac{2}{3}} - 9 \\sqrt{11823} \\sqrt[3]{2} i \\sqrt[3]{8269 + 27 \\sqrt{11823} i} - 4543 \\sqrt[3]{2} \\sqrt[3]{8269 + 27 \\sqrt{11823} i} + 27 \\sqrt[3]{2} \\sqrt{3941} \\sqrt[3]{8269 + 27 \\sqrt{11823} i} + 180 \\sqrt{11823} \\cdot 2^{\\frac{2}{3}} i + 302 \\sqrt{3} i \\left(8269 + 27 \\sqrt{11823} i\\right)^{\\frac{2}{3}}} & \\frac{49614 \\cdot 2^{\\frac{2}{3}} + 3216 \\sqrt[3]{16538 + 54 \\sqrt{11823} i} + 204 \\left(8269 + 27 \\sqrt{11823} i\\right)^{\\frac{2}{3}} + 162 \\sqrt{11823} \\cdot 2^{\\frac{2}{3}} i}{75446 \\cdot 2^{\\frac{2}{3}} + 4543 \\sqrt[3]{2} \\sqrt[3]{8269 + 27 \\sqrt{11823} i} + 90 \\sqrt{11823} \\cdot 2^{\\frac{2}{3}} i + 9 \\sqrt{11823} \\sqrt[3]{2} i \\sqrt[3]{8269 + 27 \\sqrt{11823} i} + 302 \\left(8269 + 27 \\sqrt{11823} i\\right)^{\\frac{2}{3}}}\\\\1 & 1 & 1\\end{matrix}\\right]$"
      ],
      "text/plain": [
       "⎡                                                         2/3             3 __\n",
       "⎢                                                - 49614⋅2    - 1608⋅√3⋅ⅈ⋅╲╱ 1\n",
       "⎢─────────────────────────────────────────────────────────────────────────────\n",
       "⎢          2/3        3 ___      3 ____________________               2/3     \n",
       "⎢- 150892⋅2    - 4543⋅╲╱ 2 ⋅√3⋅ⅈ⋅╲╱ 8269 + 27⋅√11823⋅ⅈ  - 180⋅√11823⋅2   ⋅ⅈ + \n",
       "⎢                                                                             \n",
       "⎢                                                        2/3             3 ___\n",
       "⎢                                               - 99228⋅2    - 3216⋅√3⋅ⅈ⋅╲╱ 16\n",
       "⎢─────────────────────────────────────────────────────────────────────────────\n",
       "⎢          2/3        3 ___      3 ____________________               2/3     \n",
       "⎢- 150892⋅2    - 4543⋅╲╱ 2 ⋅√3⋅ⅈ⋅╲╱ 8269 + 27⋅√11823⋅ⅈ  - 180⋅√11823⋅2   ⋅ⅈ + \n",
       "⎢                                                                             \n",
       "⎣                                                                             \n",
       "\n",
       "___________________               2/3          3 _____________________        \n",
       "6538 + 54⋅√11823⋅ⅈ  - 162⋅√11823⋅2   ⋅ⅈ + 1608⋅╲╱ 16538 + 54⋅√11823⋅ⅈ  + 66⋅(8\n",
       "──────────────────────────────────────────────────────────────────────────────\n",
       "   3 ___       3 ____________________        3 ___ 3 ____________________     \n",
       "27⋅╲╱ 2 ⋅√3941⋅╲╱ 8269 + 27⋅√11823⋅ⅈ  + 4543⋅╲╱ 2 ⋅╲╱ 8269 + 27⋅√11823⋅ⅈ  + 9⋅\n",
       "                                                                              \n",
       "__________________               2/3          3 _____________________         \n",
       "538 + 54⋅√11823⋅ⅈ  - 324⋅√11823⋅2   ⋅ⅈ + 3216⋅╲╱ 16538 + 54⋅√11823⋅ⅈ  + 204⋅(8\n",
       "──────────────────────────────────────────────────────────────────────────────\n",
       "   3 ___       3 ____________________        3 ___ 3 ____________________     \n",
       "27⋅╲╱ 2 ⋅√3941⋅╲╱ 8269 + 27⋅√11823⋅ⅈ  + 4543⋅╲╱ 2 ⋅╲╱ 8269 + 27⋅√11823⋅ⅈ  + 9⋅\n",
       "                                                                              \n",
       "                                                   1                          \n",
       "\n",
       "                  2/3                               2/3                       \n",
       "269 + 27⋅√11823⋅ⅈ)    + 66⋅√3⋅ⅈ⋅(8269 + 27⋅√11823⋅ⅈ)                          \n",
       "──────────────────────────────────────────────────────────────────────────────\n",
       "       3 ___   3 ____________________                           2/3           \n",
       "√11823⋅╲╱ 2 ⋅ⅈ⋅╲╱ 8269 + 27⋅√11823⋅ⅈ  + 302⋅(8269 + 27⋅√11823⋅ⅈ)    + 302⋅√3⋅ⅈ\n",
       "                                                                              \n",
       "                  2/3                                2/3                      \n",
       "269 + 27⋅√11823⋅ⅈ)    + 204⋅√3⋅ⅈ⋅(8269 + 27⋅√11823⋅ⅈ)                         \n",
       "──────────────────────────────────────────────────────────────────────────────\n",
       "       3 ___   3 ____________________                           2/3           \n",
       "√11823⋅╲╱ 2 ⋅ⅈ⋅╲╱ 8269 + 27⋅√11823⋅ⅈ  + 302⋅(8269 + 27⋅√11823⋅ⅈ)    + 302⋅√3⋅ⅈ\n",
       "                                                                              \n",
       "                                                                              \n",
       "\n",
       "                                                                              \n",
       "                                                                          4961\n",
       "────────────────────────  ────────────────────────────────────────────────────\n",
       "                     2/3          2/3        3 ___      3 ____________________\n",
       "⋅(8269 + 27⋅√11823⋅ⅈ)     150892⋅2    - 4543⋅╲╱ 2 ⋅√3⋅ⅈ⋅╲╱ 8269 + 27⋅√11823⋅ⅈ \n",
       "                                                                              \n",
       "                                                                              \n",
       "                                                                         99228\n",
       "────────────────────────  ────────────────────────────────────────────────────\n",
       "                     2/3          2/3        3 ___      3 ____________________\n",
       "⋅(8269 + 27⋅√11823⋅ⅈ)     150892⋅2    - 4543⋅╲╱ 2 ⋅√3⋅ⅈ⋅╲╱ 8269 + 27⋅√11823⋅ⅈ \n",
       "                                                                              \n",
       "                                                                              \n",
       "\n",
       "   2/3             3 _____________________                          2/3       \n",
       "4⋅2    - 1608⋅√3⋅ⅈ⋅╲╱ 16538 + 54⋅√11823⋅ⅈ  - 66⋅(8269 + 27⋅√11823⋅ⅈ)    - 1608\n",
       "──────────────────────────────────────────────────────────────────────────────\n",
       "                           2/3            3 ___   3 ____________________      \n",
       " - 302⋅(8269 + 27⋅√11823⋅ⅈ)    - 9⋅√11823⋅╲╱ 2 ⋅ⅈ⋅╲╱ 8269 + 27⋅√11823⋅ⅈ  - 454\n",
       "                                                                              \n",
       "  2/3             3 _____________________                           2/3       \n",
       "⋅2    - 3216⋅√3⋅ⅈ⋅╲╱ 16538 + 54⋅√11823⋅ⅈ  - 204⋅(8269 + 27⋅√11823⋅ⅈ)    - 3216\n",
       "──────────────────────────────────────────────────────────────────────────────\n",
       "                           2/3            3 ___   3 ____________________      \n",
       " - 302⋅(8269 + 27⋅√11823⋅ⅈ)    - 9⋅√11823⋅╲╱ 2 ⋅ⅈ⋅╲╱ 8269 + 27⋅√11823⋅ⅈ  - 454\n",
       "                                                                              \n",
       "                                                                           1  \n",
       "\n",
       " 3 _____________________               2/3                                 2/3\n",
       "⋅╲╱ 16538 + 54⋅√11823⋅ⅈ  + 162⋅√11823⋅2   ⋅ⅈ + 66⋅√3⋅ⅈ⋅(8269 + 27⋅√11823⋅ⅈ)   \n",
       "──────────────────────────────────────────────────────────────────────────────\n",
       "  3 ___ 3 ____________________      3 ___       3 ____________________        \n",
       "3⋅╲╱ 2 ⋅╲╱ 8269 + 27⋅√11823⋅ⅈ  + 27⋅╲╱ 2 ⋅√3941⋅╲╱ 8269 + 27⋅√11823⋅ⅈ  + 180⋅√\n",
       "                                                                              \n",
       " 3 _____________________               2/3                                  2/\n",
       "⋅╲╱ 16538 + 54⋅√11823⋅ⅈ  + 324⋅√11823⋅2   ⋅ⅈ + 204⋅√3⋅ⅈ⋅(8269 + 27⋅√11823⋅ⅈ)  \n",
       "──────────────────────────────────────────────────────────────────────────────\n",
       "  3 ___ 3 ____________________      3 ___       3 ____________________        \n",
       "3⋅╲╱ 2 ⋅╲╱ 8269 + 27⋅√11823⋅ⅈ  + 27⋅╲╱ 2 ⋅√3941⋅╲╱ 8269 + 27⋅√11823⋅ⅈ  + 180⋅√\n",
       "                                                                              \n",
       "                                                                              \n",
       "\n",
       "                                                                              \n",
       "                                                                         24807\n",
       "───────────────────────────────────────────────  ─────────────────────────────\n",
       "       2/3                                  2/3         2/3        3 ___ 3 ___\n",
       "11823⋅2   ⋅ⅈ + 302⋅√3⋅ⅈ⋅(8269 + 27⋅√11823⋅ⅈ)     75446⋅2    + 4543⋅╲╱ 2 ⋅╲╱ 82\n",
       "                                                                              \n",
       "3                                                                             \n",
       "                                                                        49614⋅\n",
       "───────────────────────────────────────────────  ─────────────────────────────\n",
       "       2/3                                  2/3         2/3        3 ___ 3 ___\n",
       "11823⋅2   ⋅ⅈ + 302⋅√3⋅ⅈ⋅(8269 + 27⋅√11823⋅ⅈ)     75446⋅2    + 4543⋅╲╱ 2 ⋅╲╱ 82\n",
       "                                                                              \n",
       "                                                                              \n",
       "\n",
       "  2/3        3 _____________________                          2/3             \n",
       "⋅2    + 1608⋅╲╱ 16538 + 54⋅√11823⋅ⅈ  + 66⋅(8269 + 27⋅√11823⋅ⅈ)    + 81⋅√11823⋅\n",
       "──────────────────────────────────────────────────────────────────────────────\n",
       "_________________              2/3              3 ___   3 ____________________\n",
       "69 + 27⋅√11823⋅ⅈ  + 90⋅√11823⋅2   ⋅ⅈ + 9⋅√11823⋅╲╱ 2 ⋅ⅈ⋅╲╱ 8269 + 27⋅√11823⋅ⅈ \n",
       "                                                                              \n",
       " 2/3        3 _____________________                           2/3             \n",
       "2    + 3216⋅╲╱ 16538 + 54⋅√11823⋅ⅈ  + 204⋅(8269 + 27⋅√11823⋅ⅈ)    + 162⋅√11823\n",
       "──────────────────────────────────────────────────────────────────────────────\n",
       "_________________              2/3              3 ___   3 ____________________\n",
       "69 + 27⋅√11823⋅ⅈ  + 90⋅√11823⋅2   ⋅ⅈ + 9⋅√11823⋅╲╱ 2 ⋅ⅈ⋅╲╱ 8269 + 27⋅√11823⋅ⅈ \n",
       "                                                                              \n",
       "                                       1                                      \n",
       "\n",
       " 2/3                          ⎤\n",
       "2   ⋅ⅈ                        ⎥\n",
       "──────────────────────────────⎥\n",
       "                           2/3⎥\n",
       " + 302⋅(8269 + 27⋅√11823⋅ⅈ)   ⎥\n",
       "                              ⎥\n",
       "  2/3                         ⎥\n",
       "⋅2   ⋅ⅈ                       ⎥\n",
       "──────────────────────────────⎥\n",
       "                           2/3⎥\n",
       " + 302⋅(8269 + 27⋅√11823⋅ⅈ)   ⎥\n",
       "                              ⎥\n",
       "                              ⎦"
      ]
     },
     "execution_count": 55,
     "metadata": {},
     "output_type": "execute_result"
    }
   ],
   "source": [
    "P,D = M.diagonalize()\n",
    "P"
   ]
  },
  {
   "cell_type": "code",
   "execution_count": 68,
   "metadata": {},
   "outputs": [
    {
     "data": {
      "text/latex": [
       "$\\displaystyle \\left[ \\left( \\frac{14}{3} + \\left(- \\frac{1}{2} - \\frac{\\sqrt{3} i}{2}\\right) \\sqrt[3]{\\frac{8269}{54} + \\frac{\\sqrt{11823} i}{2}} + \\frac{268}{9 \\left(- \\frac{1}{2} - \\frac{\\sqrt{3} i}{2}\\right) \\sqrt[3]{\\frac{8269}{54} + \\frac{\\sqrt{11823} i}{2}}}, \\  1, \\  \\left[ \\left[\\begin{matrix}- \\frac{48 - 6 \\left(- \\frac{11}{3} - \\frac{268}{9 \\left(- \\frac{1}{2} - \\frac{\\sqrt{3} i}{2}\\right) \\sqrt[3]{\\frac{8269}{54} + \\frac{\\sqrt{11823} i}{2}}} - \\left(- \\frac{1}{2} - \\frac{\\sqrt{3} i}{2}\\right) \\sqrt[3]{\\frac{8269}{54} + \\frac{\\sqrt{11823} i}{2}}\\right) \\left(\\frac{1}{3} - \\frac{268}{9 \\left(- \\frac{1}{2} - \\frac{\\sqrt{3} i}{2}\\right) \\sqrt[3]{\\frac{8269}{54} + \\frac{\\sqrt{11823} i}{2}}} - \\left(- \\frac{1}{2} - \\frac{\\sqrt{3} i}{2}\\right) \\sqrt[3]{\\frac{8269}{54} + \\frac{\\sqrt{11823} i}{2}}\\right) - \\left(\\frac{1}{3} - \\frac{268}{9 \\left(- \\frac{1}{2} - \\frac{\\sqrt{3} i}{2}\\right) \\sqrt[3]{\\frac{8269}{54} + \\frac{\\sqrt{11823} i}{2}}} - \\left(- \\frac{1}{2} - \\frac{\\sqrt{3} i}{2}\\right) \\sqrt[3]{\\frac{8269}{54} + \\frac{\\sqrt{11823} i}{2}}\\right) \\left(34 + 6 \\left(- \\frac{1}{2} - \\frac{\\sqrt{3} i}{2}\\right) \\sqrt[3]{\\frac{8269}{54} + \\frac{\\sqrt{11823} i}{2}} + \\frac{536}{3 \\left(- \\frac{1}{2} - \\frac{\\sqrt{3} i}{2}\\right) \\sqrt[3]{\\frac{8269}{54} + \\frac{\\sqrt{11823} i}{2}}}\\right)}{32 - 4 \\left(- \\frac{11}{3} - \\frac{268}{9 \\left(- \\frac{1}{2} - \\frac{\\sqrt{3} i}{2}\\right) \\sqrt[3]{\\frac{8269}{54} + \\frac{\\sqrt{11823} i}{2}}} - \\left(- \\frac{1}{2} - \\frac{\\sqrt{3} i}{2}\\right) \\sqrt[3]{\\frac{8269}{54} + \\frac{\\sqrt{11823} i}{2}}\\right) \\left(\\frac{1}{3} - \\frac{268}{9 \\left(- \\frac{1}{2} - \\frac{\\sqrt{3} i}{2}\\right) \\sqrt[3]{\\frac{8269}{54} + \\frac{\\sqrt{11823} i}{2}}} - \\left(- \\frac{1}{2} - \\frac{\\sqrt{3} i}{2}\\right) \\sqrt[3]{\\frac{8269}{54} + \\frac{\\sqrt{11823} i}{2}}\\right)}\\\\- \\frac{34 + 6 \\left(- \\frac{1}{2} - \\frac{\\sqrt{3} i}{2}\\right) \\sqrt[3]{\\frac{8269}{54} + \\frac{\\sqrt{11823} i}{2}} + \\frac{536}{3 \\left(- \\frac{1}{2} - \\frac{\\sqrt{3} i}{2}\\right) \\sqrt[3]{\\frac{8269}{54} + \\frac{\\sqrt{11823} i}{2}}}}{8 - \\left(- \\frac{11}{3} - \\frac{268}{9 \\left(- \\frac{1}{2} - \\frac{\\sqrt{3} i}{2}\\right) \\sqrt[3]{\\frac{8269}{54} + \\frac{\\sqrt{11823} i}{2}}} - \\left(- \\frac{1}{2} - \\frac{\\sqrt{3} i}{2}\\right) \\sqrt[3]{\\frac{8269}{54} + \\frac{\\sqrt{11823} i}{2}}\\right) \\left(\\frac{1}{3} - \\frac{268}{9 \\left(- \\frac{1}{2} - \\frac{\\sqrt{3} i}{2}\\right) \\sqrt[3]{\\frac{8269}{54} + \\frac{\\sqrt{11823} i}{2}}} - \\left(- \\frac{1}{2} - \\frac{\\sqrt{3} i}{2}\\right) \\sqrt[3]{\\frac{8269}{54} + \\frac{\\sqrt{11823} i}{2}}\\right)}\\\\1\\end{matrix}\\right]\\right]\\right), \\  \\left( \\frac{14}{3} + \\frac{268}{9 \\left(- \\frac{1}{2} + \\frac{\\sqrt{3} i}{2}\\right) \\sqrt[3]{\\frac{8269}{54} + \\frac{\\sqrt{11823} i}{2}}} + \\left(- \\frac{1}{2} + \\frac{\\sqrt{3} i}{2}\\right) \\sqrt[3]{\\frac{8269}{54} + \\frac{\\sqrt{11823} i}{2}}, \\  1, \\  \\left[ \\left[\\begin{matrix}- \\frac{48 - \\left(\\frac{1}{3} - \\left(- \\frac{1}{2} + \\frac{\\sqrt{3} i}{2}\\right) \\sqrt[3]{\\frac{8269}{54} + \\frac{\\sqrt{11823} i}{2}} - \\frac{268}{9 \\left(- \\frac{1}{2} + \\frac{\\sqrt{3} i}{2}\\right) \\sqrt[3]{\\frac{8269}{54} + \\frac{\\sqrt{11823} i}{2}}}\\right) \\left(34 + \\frac{536}{3 \\left(- \\frac{1}{2} + \\frac{\\sqrt{3} i}{2}\\right) \\sqrt[3]{\\frac{8269}{54} + \\frac{\\sqrt{11823} i}{2}}} + 6 \\left(- \\frac{1}{2} + \\frac{\\sqrt{3} i}{2}\\right) \\sqrt[3]{\\frac{8269}{54} + \\frac{\\sqrt{11823} i}{2}}\\right) - 6 \\left(- \\frac{11}{3} - \\left(- \\frac{1}{2} + \\frac{\\sqrt{3} i}{2}\\right) \\sqrt[3]{\\frac{8269}{54} + \\frac{\\sqrt{11823} i}{2}} - \\frac{268}{9 \\left(- \\frac{1}{2} + \\frac{\\sqrt{3} i}{2}\\right) \\sqrt[3]{\\frac{8269}{54} + \\frac{\\sqrt{11823} i}{2}}}\\right) \\left(\\frac{1}{3} - \\left(- \\frac{1}{2} + \\frac{\\sqrt{3} i}{2}\\right) \\sqrt[3]{\\frac{8269}{54} + \\frac{\\sqrt{11823} i}{2}} - \\frac{268}{9 \\left(- \\frac{1}{2} + \\frac{\\sqrt{3} i}{2}\\right) \\sqrt[3]{\\frac{8269}{54} + \\frac{\\sqrt{11823} i}{2}}}\\right)}{32 - 4 \\left(- \\frac{11}{3} - \\left(- \\frac{1}{2} + \\frac{\\sqrt{3} i}{2}\\right) \\sqrt[3]{\\frac{8269}{54} + \\frac{\\sqrt{11823} i}{2}} - \\frac{268}{9 \\left(- \\frac{1}{2} + \\frac{\\sqrt{3} i}{2}\\right) \\sqrt[3]{\\frac{8269}{54} + \\frac{\\sqrt{11823} i}{2}}}\\right) \\left(\\frac{1}{3} - \\left(- \\frac{1}{2} + \\frac{\\sqrt{3} i}{2}\\right) \\sqrt[3]{\\frac{8269}{54} + \\frac{\\sqrt{11823} i}{2}} - \\frac{268}{9 \\left(- \\frac{1}{2} + \\frac{\\sqrt{3} i}{2}\\right) \\sqrt[3]{\\frac{8269}{54} + \\frac{\\sqrt{11823} i}{2}}}\\right)}\\\\- \\frac{34 + \\frac{536}{3 \\left(- \\frac{1}{2} + \\frac{\\sqrt{3} i}{2}\\right) \\sqrt[3]{\\frac{8269}{54} + \\frac{\\sqrt{11823} i}{2}}} + 6 \\left(- \\frac{1}{2} + \\frac{\\sqrt{3} i}{2}\\right) \\sqrt[3]{\\frac{8269}{54} + \\frac{\\sqrt{11823} i}{2}}}{8 - \\left(- \\frac{11}{3} - \\left(- \\frac{1}{2} + \\frac{\\sqrt{3} i}{2}\\right) \\sqrt[3]{\\frac{8269}{54} + \\frac{\\sqrt{11823} i}{2}} - \\frac{268}{9 \\left(- \\frac{1}{2} + \\frac{\\sqrt{3} i}{2}\\right) \\sqrt[3]{\\frac{8269}{54} + \\frac{\\sqrt{11823} i}{2}}}\\right) \\left(\\frac{1}{3} - \\left(- \\frac{1}{2} + \\frac{\\sqrt{3} i}{2}\\right) \\sqrt[3]{\\frac{8269}{54} + \\frac{\\sqrt{11823} i}{2}} - \\frac{268}{9 \\left(- \\frac{1}{2} + \\frac{\\sqrt{3} i}{2}\\right) \\sqrt[3]{\\frac{8269}{54} + \\frac{\\sqrt{11823} i}{2}}}\\right)}\\\\1\\end{matrix}\\right]\\right]\\right), \\  \\left( \\frac{14}{3} + \\frac{268}{9 \\sqrt[3]{\\frac{8269}{54} + \\frac{\\sqrt{11823} i}{2}}} + \\sqrt[3]{\\frac{8269}{54} + \\frac{\\sqrt{11823} i}{2}}, \\  1, \\  \\left[ \\left[\\begin{matrix}- \\frac{48 - 6 \\left(- \\frac{11}{3} - \\sqrt[3]{\\frac{8269}{54} + \\frac{\\sqrt{11823} i}{2}} - \\frac{268}{9 \\sqrt[3]{\\frac{8269}{54} + \\frac{\\sqrt{11823} i}{2}}}\\right) \\left(\\frac{1}{3} - \\sqrt[3]{\\frac{8269}{54} + \\frac{\\sqrt{11823} i}{2}} - \\frac{268}{9 \\sqrt[3]{\\frac{8269}{54} + \\frac{\\sqrt{11823} i}{2}}}\\right) - \\left(\\frac{1}{3} - \\sqrt[3]{\\frac{8269}{54} + \\frac{\\sqrt{11823} i}{2}} - \\frac{268}{9 \\sqrt[3]{\\frac{8269}{54} + \\frac{\\sqrt{11823} i}{2}}}\\right) \\left(34 + \\frac{536}{3 \\sqrt[3]{\\frac{8269}{54} + \\frac{\\sqrt{11823} i}{2}}} + 6 \\sqrt[3]{\\frac{8269}{54} + \\frac{\\sqrt{11823} i}{2}}\\right)}{32 - 4 \\left(- \\frac{11}{3} - \\sqrt[3]{\\frac{8269}{54} + \\frac{\\sqrt{11823} i}{2}} - \\frac{268}{9 \\sqrt[3]{\\frac{8269}{54} + \\frac{\\sqrt{11823} i}{2}}}\\right) \\left(\\frac{1}{3} - \\sqrt[3]{\\frac{8269}{54} + \\frac{\\sqrt{11823} i}{2}} - \\frac{268}{9 \\sqrt[3]{\\frac{8269}{54} + \\frac{\\sqrt{11823} i}{2}}}\\right)}\\\\- \\frac{34 + \\frac{536}{3 \\sqrt[3]{\\frac{8269}{54} + \\frac{\\sqrt{11823} i}{2}}} + 6 \\sqrt[3]{\\frac{8269}{54} + \\frac{\\sqrt{11823} i}{2}}}{8 - \\left(- \\frac{11}{3} - \\sqrt[3]{\\frac{8269}{54} + \\frac{\\sqrt{11823} i}{2}} - \\frac{268}{9 \\sqrt[3]{\\frac{8269}{54} + \\frac{\\sqrt{11823} i}{2}}}\\right) \\left(\\frac{1}{3} - \\sqrt[3]{\\frac{8269}{54} + \\frac{\\sqrt{11823} i}{2}} - \\frac{268}{9 \\sqrt[3]{\\frac{8269}{54} + \\frac{\\sqrt{11823} i}{2}}}\\right)}\\\\1\\end{matrix}\\right]\\right]\\right)\\right]$"
      ],
      "text/plain": [
       "⎡⎛                                                                            \n",
       "⎢⎜                                                                            \n",
       "⎢⎜                                                                            \n",
       "⎢⎜                                                                            \n",
       "⎢⎜                                                                            \n",
       "⎢⎜                                                                            \n",
       "⎢⎜                                                                            \n",
       "⎢⎜                                                                            \n",
       "⎢⎜                                                                            \n",
       "⎢⎜                                                                            \n",
       "⎢⎜                                                                            \n",
       "⎢⎜                                                                            \n",
       "⎢⎜                                                                            \n",
       "⎢⎜                                                                            \n",
       "⎢⎜                      _________________                                     \n",
       "⎢⎜14   ⎛  1   √3⋅ⅈ⎞    ╱ 8269   √11823⋅ⅈ                    268               \n",
       "⎢⎜── + ⎜- ─ - ────⎟⋅3 ╱  ──── + ────────  + ──────────────────────────────────\n",
       "⎢⎜3    ⎝  2    2  ⎠ ╲╱    54       2                           _______________\n",
       "⎢⎜                                            ⎛  1   √3⋅ⅈ⎞    ╱ 8269   √11823⋅\n",
       "⎢⎜                                          9⋅⎜- ─ - ────⎟⋅3 ╱  ──── + ───────\n",
       "⎢⎜                                            ⎝  2    2  ⎠ ╲╱    54       2   \n",
       "⎢⎜                                                                            \n",
       "⎢⎜                                                                            \n",
       "⎢⎜                                                                            \n",
       "⎢⎜                                                                            \n",
       "⎢⎜                                                                            \n",
       "⎢⎜                                                                            \n",
       "⎢⎜                                                                            \n",
       "⎢⎜                                                                            \n",
       "⎢⎜                                                                            \n",
       "⎢⎜                                                                            \n",
       "⎢⎜                                                                            \n",
       "⎣⎝                                                                            \n",
       "\n",
       "       ⎡⎡ ⎛       ⎛                                                           \n",
       "       ⎢⎢ ⎜       ⎜  11                   268                    ⎛  1   √3⋅ⅈ⎞ \n",
       "       ⎢⎢-⎜48 - 6⋅⎜- ── - ──────────────────────────────────── - ⎜- ─ - ────⎟⋅\n",
       "       ⎢⎢ ⎜       ⎜  3                       _________________   ⎝  2    2  ⎠ \n",
       "       ⎢⎢ ⎜       ⎜         ⎛  1   √3⋅ⅈ⎞    ╱ 8269   √11823⋅ⅈ                 \n",
       "       ⎢⎢ ⎜       ⎜       9⋅⎜- ─ - ────⎟⋅3 ╱  ──── + ────────                 \n",
       "       ⎢⎢ ⎝       ⎝         ⎝  2    2  ⎠ ╲╱    54       2                     \n",
       "       ⎢⎢─────────────────────────────────────────────────────────────────────\n",
       "       ⎢⎢                                                                     \n",
       "       ⎢⎢                                                                     \n",
       "       ⎢⎢                                                                     \n",
       "       ⎢⎢                                                                     \n",
       "       ⎢⎢                                                                     \n",
       "       ⎢⎢                                                                     \n",
       "       ⎢⎢                                                                     \n",
       "       ⎢⎢                                                                     \n",
       "──, 1, ⎢⎢                                                                     \n",
       "__     ⎢⎢                                                                     \n",
       "ⅈ      ⎢⎢                                                                     \n",
       "─      ⎢⎢                                                                     \n",
       "       ⎢⎢                                                                     \n",
       "       ⎢⎢                                                                     \n",
       "       ⎢⎢                                                                     \n",
       "       ⎢⎢                                                                     \n",
       "       ⎢⎢                                                                     \n",
       "       ⎢⎢                                                                     \n",
       "       ⎢⎢                                                                     \n",
       "       ⎢⎢                                                                     \n",
       "       ⎢⎢                                                                     \n",
       "       ⎢⎢                                                                     \n",
       "       ⎢⎢                                                                     \n",
       "       ⎢⎢                                                                     \n",
       "       ⎣⎣                                                                     \n",
       "\n",
       "    _________________⎞ ⎛                                                      \n",
       "   ╱ 8269   √11823⋅ⅈ ⎟ ⎜1                   268                    ⎛  1   √3⋅ⅈ\n",
       "3 ╱  ──── + ──────── ⎟⋅⎜─ - ──────────────────────────────────── - ⎜- ─ - ────\n",
       "╲╱    54       2     ⎟ ⎜3                      _________________   ⎝  2    2  \n",
       "                     ⎟ ⎜      ⎛  1   √3⋅ⅈ⎞    ╱ 8269   √11823⋅ⅈ               \n",
       "                     ⎟ ⎜    9⋅⎜- ─ - ────⎟⋅3 ╱  ──── + ────────               \n",
       "                     ⎠ ⎝      ⎝  2    2  ⎠ ╲╱    54       2                   \n",
       "──────────────────────────────────────────────────────────────────────────────\n",
       "                      ⎛                                                       \n",
       "                      ⎜  11                   268                    ⎛  1   √3\n",
       "               32 - 4⋅⎜- ── - ──────────────────────────────────── - ⎜- ─ - ──\n",
       "                      ⎜  3                       _________________   ⎝  2    2\n",
       "                      ⎜         ⎛  1   √3⋅ⅈ⎞    ╱ 8269   √11823⋅ⅈ             \n",
       "                      ⎜       9⋅⎜- ─ - ────⎟⋅3 ╱  ──── + ────────             \n",
       "                      ⎝         ⎝  2    2  ⎠ ╲╱    54       2                 \n",
       "                                                                              \n",
       "                                                           ⎛                  \n",
       "                                                           ⎜       ⎛  1   √3⋅ⅈ\n",
       "                                                          -⎜34 + 6⋅⎜- ─ - ────\n",
       "                                                           ⎜       ⎝  2    2  \n",
       "                                                           ⎜                  \n",
       "                                                           ⎜                  \n",
       "                                                           ⎝                  \n",
       "                 ─────────────────────────────────────────────────────────────\n",
       "                     ⎛                                                        \n",
       "                     ⎜  11                   268                    ⎛  1   √3⋅\n",
       "                 8 - ⎜- ── - ──────────────────────────────────── - ⎜- ─ - ───\n",
       "                     ⎜  3                       _________________   ⎝  2    2 \n",
       "                     ⎜         ⎛  1   √3⋅ⅈ⎞    ╱ 8269   √11823⋅ⅈ              \n",
       "                     ⎜       9⋅⎜- ─ - ────⎟⋅3 ╱  ──── + ────────              \n",
       "                     ⎝         ⎝  2    2  ⎠ ╲╱    54       2                  \n",
       "                                                                              \n",
       "                                                                              \n",
       "\n",
       "      _________________⎞   ⎛                                                  \n",
       "⎞    ╱ 8269   √11823⋅ⅈ ⎟   ⎜1                   268                    ⎛  1   \n",
       "⎟⋅3 ╱  ──── + ──────── ⎟ - ⎜─ - ──────────────────────────────────── - ⎜- ─ - \n",
       "⎠ ╲╱    54       2     ⎟   ⎜3                      _________________   ⎝  2   \n",
       "                       ⎟   ⎜      ⎛  1   √3⋅ⅈ⎞    ╱ 8269   √11823⋅ⅈ           \n",
       "                       ⎟   ⎜    9⋅⎜- ─ - ────⎟⋅3 ╱  ──── + ────────           \n",
       "                       ⎠   ⎝      ⎝  2    2  ⎠ ╲╱    54       2               \n",
       "──────────────────────────────────────────────────────────────────────────────\n",
       "        _________________⎞ ⎛                                                  \n",
       "⋅ⅈ⎞    ╱ 8269   √11823⋅ⅈ ⎟ ⎜1                   268                    ⎛  1   \n",
       "──⎟⋅3 ╱  ──── + ──────── ⎟⋅⎜─ - ──────────────────────────────────── - ⎜- ─ - \n",
       "  ⎠ ╲╱    54       2     ⎟ ⎜3                      _________________   ⎝  2   \n",
       "                         ⎟ ⎜      ⎛  1   √3⋅ⅈ⎞    ╱ 8269   √11823⋅ⅈ           \n",
       "                         ⎟ ⎜    9⋅⎜- ─ - ────⎟⋅3 ╱  ──── + ────────           \n",
       "                         ⎠ ⎝      ⎝  2    2  ⎠ ╲╱    54       2               \n",
       "                                                                              \n",
       "      _________________                                       ⎞               \n",
       "⎞    ╱ 8269   √11823⋅ⅈ                    536                 ⎟               \n",
       "⎟⋅3 ╱  ──── + ────────  + ────────────────────────────────────⎟               \n",
       "⎠ ╲╱    54       2                           _________________⎟               \n",
       "                            ⎛  1   √3⋅ⅈ⎞    ╱ 8269   √11823⋅ⅈ ⎟               \n",
       "                          3⋅⎜- ─ - ────⎟⋅3 ╱  ──── + ──────── ⎟               \n",
       "                            ⎝  2    2  ⎠ ╲╱    54       2     ⎠               \n",
       "──────────────────────────────────────────────────────────────────────────────\n",
       "       _________________⎞ ⎛                                                   \n",
       "ⅈ⎞    ╱ 8269   √11823⋅ⅈ ⎟ ⎜1                   268                    ⎛  1   √\n",
       "─⎟⋅3 ╱  ──── + ──────── ⎟⋅⎜─ - ──────────────────────────────────── - ⎜- ─ - ─\n",
       " ⎠ ╲╱    54       2     ⎟ ⎜3                      _________________   ⎝  2    \n",
       "                        ⎟ ⎜      ⎛  1   √3⋅ⅈ⎞    ╱ 8269   √11823⋅ⅈ            \n",
       "                        ⎟ ⎜    9⋅⎜- ─ - ────⎟⋅3 ╱  ──── + ────────            \n",
       "                        ⎠ ⎝      ⎝  2    2  ⎠ ╲╱    54       2                \n",
       "                                                                              \n",
       "                     1                                                        \n",
       "\n",
       "          _________________⎞ ⎛                        _________________       \n",
       "√3⋅ⅈ⎞    ╱ 8269   √11823⋅ⅈ ⎟ ⎜       ⎛  1   √3⋅ⅈ⎞    ╱ 8269   √11823⋅ⅈ        \n",
       "────⎟⋅3 ╱  ──── + ──────── ⎟⋅⎜34 + 6⋅⎜- ─ - ────⎟⋅3 ╱  ──── + ────────  + ────\n",
       " 2  ⎠ ╲╱    54       2     ⎟ ⎜       ⎝  2    2  ⎠ ╲╱    54       2            \n",
       "                           ⎟ ⎜                                              ⎛ \n",
       "                           ⎟ ⎜                                            3⋅⎜-\n",
       "                           ⎠ ⎝                                              ⎝ \n",
       "──────────────────────────────────────────────────────────────────────────────\n",
       "          _________________⎞                                                  \n",
       "√3⋅ⅈ⎞    ╱ 8269   √11823⋅ⅈ ⎟                                                  \n",
       "────⎟⋅3 ╱  ──── + ──────── ⎟                                                  \n",
       " 2  ⎠ ╲╱    54       2     ⎟                                                  \n",
       "                           ⎟                                                  \n",
       "                           ⎟                                                  \n",
       "                           ⎠                                                  \n",
       "                                                                              \n",
       "                                                                              \n",
       "                                                                              \n",
       "                                                                              \n",
       "                                                                              \n",
       "                                                                              \n",
       "                                                                              \n",
       "                                                                              \n",
       "───────────────────────────                                                   \n",
       "         _________________⎞                                                   \n",
       "3⋅ⅈ⎞    ╱ 8269   √11823⋅ⅈ ⎟                                                   \n",
       "───⎟⋅3 ╱  ──── + ──────── ⎟                                                   \n",
       "2  ⎠ ╲╱    54       2     ⎟                                                   \n",
       "                          ⎟                                                   \n",
       "                          ⎟                                                   \n",
       "                          ⎠                                                   \n",
       "                                                                              \n",
       "                                                                              \n",
       "\n",
       "                                ⎞⎞ ⎤⎤⎞  ⎛                                     \n",
       "            536                 ⎟⎟ ⎥⎥⎟  ⎜                                     \n",
       "────────────────────────────────⎟⎟ ⎥⎥⎟  ⎜                                     \n",
       "               _________________⎟⎟ ⎥⎥⎟  ⎜                                     \n",
       " 1   √3⋅ⅈ⎞    ╱ 8269   √11823⋅ⅈ ⎟⎟ ⎥⎥⎟  ⎜                                     \n",
       " ─ - ────⎟⋅3 ╱  ──── + ──────── ⎟⎟ ⎥⎥⎟  ⎜                                     \n",
       " 2    2  ⎠ ╲╱    54       2     ⎠⎠ ⎥⎥⎟  ⎜                                     \n",
       "───────────────────────────────────⎥⎥⎟  ⎜                                     \n",
       "                                   ⎥⎥⎟  ⎜                                     \n",
       "                                   ⎥⎥⎟  ⎜                                     \n",
       "                                   ⎥⎥⎟  ⎜                                     \n",
       "                                   ⎥⎥⎟  ⎜                                     \n",
       "                                   ⎥⎥⎟  ⎜                                     \n",
       "                                   ⎥⎥⎟  ⎜                                     \n",
       "                                   ⎥⎥⎟  ⎜                                     \n",
       "                                   ⎥⎥⎟  ⎜14                   268             \n",
       "                                   ⎥⎥⎟, ⎜── + ────────────────────────────────\n",
       "                                   ⎥⎥⎟  ⎜3                       _____________\n",
       "                                   ⎥⎥⎟  ⎜       ⎛  1   √3⋅ⅈ⎞    ╱ 8269   √1182\n",
       "                                   ⎥⎥⎟  ⎜     9⋅⎜- ─ + ────⎟⋅3 ╱  ──── + ─────\n",
       "                                   ⎥⎥⎟  ⎜       ⎝  2    2  ⎠ ╲╱    54       2 \n",
       "                                   ⎥⎥⎟  ⎜                                     \n",
       "                                   ⎥⎥⎟  ⎜                                     \n",
       "                                   ⎥⎥⎟  ⎜                                     \n",
       "                                   ⎥⎥⎟  ⎜                                     \n",
       "                                   ⎥⎥⎟  ⎜                                     \n",
       "                                   ⎥⎥⎟  ⎜                                     \n",
       "                                   ⎥⎥⎟  ⎜                                     \n",
       "                                   ⎥⎥⎟  ⎜                                     \n",
       "                                   ⎥⎥⎟  ⎜                                     \n",
       "                                   ⎥⎥⎟  ⎜                                     \n",
       "                                   ⎥⎥⎟  ⎜                                     \n",
       "                                   ⎦⎦⎠  ⎝                                     \n",
       "\n",
       "                                              ⎡⎡ ⎛     ⎛                     _\n",
       "                                              ⎢⎢ ⎜     ⎜1   ⎛  1   √3⋅ⅈ⎞    ╱ \n",
       "                                              ⎢⎢-⎜48 - ⎜─ - ⎜- ─ + ────⎟⋅3 ╱  \n",
       "                                              ⎢⎢ ⎜     ⎜3   ⎝  2    2  ⎠ ╲╱   \n",
       "                                              ⎢⎢ ⎜     ⎜                      \n",
       "                                              ⎢⎢ ⎜     ⎜                      \n",
       "                                              ⎢⎢ ⎝     ⎝                      \n",
       "                                              ⎢⎢──────────────────────────────\n",
       "                                              ⎢⎢                              \n",
       "                                              ⎢⎢                              \n",
       "                                              ⎢⎢                              \n",
       "                                              ⎢⎢                              \n",
       "                                              ⎢⎢                              \n",
       "                                              ⎢⎢                              \n",
       "                        _________________     ⎢⎢                              \n",
       "       ⎛  1   √3⋅ⅈ⎞    ╱ 8269   √11823⋅ⅈ      ⎢⎢                              \n",
       "──── + ⎜- ─ + ────⎟⋅3 ╱  ──── + ──────── , 1, ⎢⎢                              \n",
       "____   ⎝  2    2  ⎠ ╲╱    54       2          ⎢⎢                              \n",
       "3⋅ⅈ                                           ⎢⎢                              \n",
       "───                                           ⎢⎢                              \n",
       "                                              ⎢⎢                              \n",
       "                                              ⎢⎢                              \n",
       "                                              ⎢⎢                              \n",
       "                                              ⎢⎢                              \n",
       "                                              ⎢⎢                              \n",
       "                                              ⎢⎢                              \n",
       "                                              ⎢⎢                              \n",
       "                                              ⎢⎢                              \n",
       "                                              ⎢⎢                              \n",
       "                                              ⎢⎢                              \n",
       "                                              ⎢⎢                              \n",
       "                                              ⎢⎢                              \n",
       "                                              ⎣⎣                              \n",
       "\n",
       "________________                                       ⎞ ⎛                    \n",
       "8269   √11823⋅ⅈ                    268                 ⎟ ⎜                    \n",
       "──── + ────────  - ────────────────────────────────────⎟⋅⎜34 + ───────────────\n",
       " 54       2                           _________________⎟ ⎜                    \n",
       "                     ⎛  1   √3⋅ⅈ⎞    ╱ 8269   √11823⋅ⅈ ⎟ ⎜       ⎛  1   √3⋅ⅈ⎞ \n",
       "                   9⋅⎜- ─ + ────⎟⋅3 ╱  ──── + ──────── ⎟ ⎜     3⋅⎜- ─ + ────⎟⋅\n",
       "                     ⎝  2    2  ⎠ ╲╱    54       2     ⎠ ⎝       ⎝  2    2  ⎠ \n",
       "──────────────────────────────────────────────────────────────────────────────\n",
       "                                                             ⎛                \n",
       "                                                             ⎜  11   ⎛  1   √3\n",
       "                                                      32 - 4⋅⎜- ── - ⎜- ─ + ──\n",
       "                                                             ⎜  3    ⎝  2    2\n",
       "                                                             ⎜                \n",
       "                                                             ⎜                \n",
       "                                                             ⎝                \n",
       "                                                                              \n",
       "                                                                              \n",
       "                                                                              \n",
       "                                                                              \n",
       "                                                                              \n",
       "                                                                              \n",
       "                                                                              \n",
       "                                                                              \n",
       "                                                        ──────────────────────\n",
       "                                                            ⎛                 \n",
       "                                                            ⎜  11   ⎛  1   √3⋅\n",
       "                                                        8 - ⎜- ── - ⎜- ─ + ───\n",
       "                                                            ⎜  3    ⎝  2    2 \n",
       "                                                            ⎜                 \n",
       "                                                            ⎜                 \n",
       "                                                            ⎝                 \n",
       "                                                                              \n",
       "                                                                              \n",
       "\n",
       "                                           _________________⎞     ⎛           \n",
       " 536                      ⎛  1   √3⋅ⅈ⎞    ╱ 8269   √11823⋅ⅈ ⎟     ⎜  11   ⎛  1\n",
       "───────────────────── + 6⋅⎜- ─ + ────⎟⋅3 ╱  ──── + ──────── ⎟ - 6⋅⎜- ── - ⎜- ─\n",
       "    _________________     ⎝  2    2  ⎠ ╲╱    54       2     ⎟     ⎜  3    ⎝  2\n",
       "   ╱ 8269   √11823⋅ⅈ                                        ⎟     ⎜           \n",
       "3 ╱  ──── + ────────                                        ⎟     ⎜           \n",
       "╲╱    54       2                                            ⎠     ⎝           \n",
       "──────────────────────────────────────────────────────────────────────────────\n",
       "        _________________                                       ⎞ ⎛           \n",
       "⋅ⅈ⎞    ╱ 8269   √11823⋅ⅈ                    268                 ⎟ ⎜1   ⎛  1   \n",
       "──⎟⋅3 ╱  ──── + ────────  - ────────────────────────────────────⎟⋅⎜─ - ⎜- ─ + \n",
       "  ⎠ ╲╱    54       2                           _________________⎟ ⎜3   ⎝  2   \n",
       "                              ⎛  1   √3⋅ⅈ⎞    ╱ 8269   √11823⋅ⅈ ⎟ ⎜           \n",
       "                            9⋅⎜- ─ + ────⎟⋅3 ╱  ──── + ──────── ⎟ ⎜           \n",
       "                              ⎝  2    2  ⎠ ╲╱    54       2     ⎠ ⎝           \n",
       "                                                                              \n",
       "                    ⎛                                                         \n",
       "                    ⎜                     536                      ⎛  1   √3⋅ⅈ\n",
       "                   -⎜34 + ──────────────────────────────────── + 6⋅⎜- ─ + ────\n",
       "                    ⎜                        _________________     ⎝  2    2  \n",
       "                    ⎜       ⎛  1   √3⋅ⅈ⎞    ╱ 8269   √11823⋅ⅈ                 \n",
       "                    ⎜     3⋅⎜- ─ + ────⎟⋅3 ╱  ──── + ────────                 \n",
       "                    ⎝       ⎝  2    2  ⎠ ╲╱    54       2                     \n",
       "──────────────────────────────────────────────────────────────────────────────\n",
       "       _________________                                       ⎞ ⎛            \n",
       "ⅈ⎞    ╱ 8269   √11823⋅ⅈ                    268                 ⎟ ⎜1   ⎛  1   √\n",
       "─⎟⋅3 ╱  ──── + ────────  - ────────────────────────────────────⎟⋅⎜─ - ⎜- ─ + ─\n",
       " ⎠ ╲╱    54       2                           _________________⎟ ⎜3   ⎝  2    \n",
       "                             ⎛  1   √3⋅ⅈ⎞    ╱ 8269   √11823⋅ⅈ ⎟ ⎜            \n",
       "                           9⋅⎜- ─ + ────⎟⋅3 ╱  ──── + ──────── ⎟ ⎜            \n",
       "                             ⎝  2    2  ⎠ ╲╱    54       2     ⎠ ⎝            \n",
       "                                                                              \n",
       "                                                            1                 \n",
       "\n",
       "             _________________                                       ⎞ ⎛      \n",
       "   √3⋅ⅈ⎞    ╱ 8269   √11823⋅ⅈ                    268                 ⎟ ⎜1   ⎛ \n",
       " + ────⎟⋅3 ╱  ──── + ────────  - ────────────────────────────────────⎟⋅⎜─ - ⎜-\n",
       "    2  ⎠ ╲╱    54       2                           _________________⎟ ⎜3   ⎝ \n",
       "                                   ⎛  1   √3⋅ⅈ⎞    ╱ 8269   √11823⋅ⅈ ⎟ ⎜      \n",
       "                                 9⋅⎜- ─ + ────⎟⋅3 ╱  ──── + ──────── ⎟ ⎜      \n",
       "                                   ⎝  2    2  ⎠ ╲╱    54       2     ⎠ ⎝      \n",
       "──────────────────────────────────────────────────────────────────────────────\n",
       "          _________________                                       ⎞           \n",
       "√3⋅ⅈ⎞    ╱ 8269   √11823⋅ⅈ                    268                 ⎟           \n",
       "────⎟⋅3 ╱  ──── + ────────  - ────────────────────────────────────⎟           \n",
       " 2  ⎠ ╲╱    54       2                           _________________⎟           \n",
       "                                ⎛  1   √3⋅ⅈ⎞    ╱ 8269   √11823⋅ⅈ ⎟           \n",
       "                              9⋅⎜- ─ + ────⎟⋅3 ╱  ──── + ──────── ⎟           \n",
       "                                ⎝  2    2  ⎠ ╲╱    54       2     ⎠           \n",
       "                                                                              \n",
       "      _________________⎞                                                      \n",
       "⎞    ╱ 8269   √11823⋅ⅈ ⎟                                                      \n",
       "⎟⋅3 ╱  ──── + ──────── ⎟                                                      \n",
       "⎠ ╲╱    54       2     ⎟                                                      \n",
       "                       ⎟                                                      \n",
       "                       ⎟                                                      \n",
       "                       ⎠                                                      \n",
       "──────────────────────────────────────────────────────────────────            \n",
       "         _________________                                       ⎞            \n",
       "3⋅ⅈ⎞    ╱ 8269   √11823⋅ⅈ                    268                 ⎟            \n",
       "───⎟⋅3 ╱  ──── + ────────  - ────────────────────────────────────⎟            \n",
       "2  ⎠ ╲╱    54       2                           _________________⎟            \n",
       "                               ⎛  1   √3⋅ⅈ⎞    ╱ 8269   √11823⋅ⅈ ⎟            \n",
       "                             9⋅⎜- ─ + ────⎟⋅3 ╱  ──── + ──────── ⎟            \n",
       "                               ⎝  2    2  ⎠ ╲╱    54       2     ⎠            \n",
       "                                                                              \n",
       "                                                                              \n",
       "\n",
       "               _________________                                       ⎞⎞ ⎤⎤⎞ \n",
       " 1   √3⋅ⅈ⎞    ╱ 8269   √11823⋅ⅈ                    268                 ⎟⎟ ⎥⎥⎟ \n",
       " ─ + ────⎟⋅3 ╱  ──── + ────────  - ────────────────────────────────────⎟⎟ ⎥⎥⎟ \n",
       " 2    2  ⎠ ╲╱    54       2                           _________________⎟⎟ ⎥⎥⎟ \n",
       "                                     ⎛  1   √3⋅ⅈ⎞    ╱ 8269   √11823⋅ⅈ ⎟⎟ ⎥⎥⎟ \n",
       "                                   9⋅⎜- ─ + ────⎟⋅3 ╱  ──── + ──────── ⎟⎟ ⎥⎥⎟ \n",
       "                                     ⎝  2    2  ⎠ ╲╱    54       2     ⎠⎠ ⎥⎥⎟ \n",
       "──────────────────────────────────────────────────────────────────────────⎥⎥⎟ \n",
       "                                                                          ⎥⎥⎟ \n",
       "                                                                          ⎥⎥⎟ \n",
       "                                                                          ⎥⎥⎟ \n",
       "                                                                          ⎥⎥⎟ \n",
       "                                                                          ⎥⎥⎟ \n",
       "                                                                          ⎥⎥⎟ \n",
       "                                                                          ⎥⎥⎟ \n",
       "                                                                          ⎥⎥⎟ \n",
       "                                                                          ⎥⎥⎟,\n",
       "                                                                          ⎥⎥⎟ \n",
       "                                                                          ⎥⎥⎟ \n",
       "                                                                          ⎥⎥⎟ \n",
       "                                                                          ⎥⎥⎟ \n",
       "                                                                          ⎥⎥⎟ \n",
       "                                                                          ⎥⎥⎟ \n",
       "                                                                          ⎥⎥⎟ \n",
       "                                                                          ⎥⎥⎟ \n",
       "                                                                          ⎥⎥⎟ \n",
       "                                                                          ⎥⎥⎟ \n",
       "                                                                          ⎥⎥⎟ \n",
       "                                                                          ⎥⎥⎟ \n",
       "                                                                          ⎥⎥⎟ \n",
       "                                                                          ⎥⎥⎟ \n",
       "                                                                          ⎥⎥⎟ \n",
       "                                                                          ⎦⎦⎠ \n",
       "\n",
       " ⎛                                                         ⎡⎡ ⎛       ⎛       \n",
       " ⎜                                                         ⎢⎢ ⎜       ⎜  11   \n",
       " ⎜                                                         ⎢⎢-⎜48 - 6⋅⎜- ── - \n",
       " ⎜                                                         ⎢⎢ ⎜       ⎜  3    \n",
       " ⎜                                                         ⎢⎢ ⎜       ⎜       \n",
       " ⎜                                                         ⎢⎢ ⎜       ⎜       \n",
       " ⎜                                                         ⎢⎢ ⎝       ⎝       \n",
       " ⎜                                                         ⎢⎢─────────────────\n",
       " ⎜                                                         ⎢⎢                 \n",
       " ⎜                                                         ⎢⎢                 \n",
       " ⎜                                                         ⎢⎢                 \n",
       " ⎜                                                         ⎢⎢                 \n",
       " ⎜                                                         ⎢⎢                 \n",
       " ⎜                                                         ⎢⎢                 \n",
       " ⎜                                   _________________     ⎢⎢                 \n",
       " ⎜14             268                ╱ 8269   √11823⋅ⅈ      ⎢⎢                 \n",
       " ⎜── + ─────────────────────── + 3 ╱  ──── + ──────── , 1, ⎢⎢                 \n",
       " ⎜3          _________________   ╲╱    54       2          ⎢⎢                 \n",
       " ⎜          ╱ 8269   √11823⋅ⅈ                              ⎢⎢                 \n",
       " ⎜     9⋅3 ╱  ──── + ────────                              ⎢⎢                 \n",
       " ⎜       ╲╱    54       2                                  ⎢⎢                 \n",
       " ⎜                                                         ⎢⎢                 \n",
       " ⎜                                                         ⎢⎢                 \n",
       " ⎜                                                         ⎢⎢                 \n",
       " ⎜                                                         ⎢⎢                 \n",
       " ⎜                                                         ⎢⎢                 \n",
       " ⎜                                                         ⎢⎢                 \n",
       " ⎜                                                         ⎢⎢                 \n",
       " ⎜                                                         ⎢⎢                 \n",
       " ⎜                                                         ⎢⎢                 \n",
       " ⎜                                                         ⎢⎢                 \n",
       " ⎜                                                         ⎢⎢                 \n",
       " ⎝                                                         ⎣⎣                 \n",
       "\n",
       "    _________________                          ⎞ ⎛        _________________   \n",
       "   ╱ 8269   √11823⋅ⅈ              268          ⎟ ⎜1      ╱ 8269   √11823⋅ⅈ    \n",
       "3 ╱  ──── + ────────  - ───────────────────────⎟⋅⎜─ - 3 ╱  ──── + ────────  - \n",
       "╲╱    54       2              _________________⎟ ⎜3   ╲╱    54       2        \n",
       "                             ╱ 8269   √11823⋅ⅈ ⎟ ⎜                            \n",
       "                        9⋅3 ╱  ──── + ──────── ⎟ ⎜                            \n",
       "                          ╲╱    54       2     ⎠ ⎝                            \n",
       "──────────────────────────────────────────────────────────────────────────────\n",
       "                                                ⎛           _________________ \n",
       "                                                ⎜  11      ╱ 8269   √11823⋅ⅈ  \n",
       "                                         32 - 4⋅⎜- ── - 3 ╱  ──── + ────────  \n",
       "                                                ⎜  3    ╲╱    54       2      \n",
       "                                                ⎜                             \n",
       "                                                ⎜                             \n",
       "                                                ⎝                             \n",
       "                                                                              \n",
       "                                                                        ⎛     \n",
       "                                                                        ⎜     \n",
       "                                                                       -⎜34 + \n",
       "                                                                        ⎜     \n",
       "                                                                        ⎜     \n",
       "                                                                        ⎜     \n",
       "                                                                        ⎝     \n",
       "                                           ───────────────────────────────────\n",
       "                                               ⎛           _________________  \n",
       "                                               ⎜  11      ╱ 8269   √11823⋅ⅈ   \n",
       "                                           8 - ⎜- ── - 3 ╱  ──── + ────────  -\n",
       "                                               ⎜  3    ╲╱    54       2       \n",
       "                                               ⎜                              \n",
       "                                               ⎜                              \n",
       "                                               ⎝                              \n",
       "                                                                              \n",
       "                                                                              \n",
       "\n",
       "                       ⎞   ⎛        _________________                         \n",
       "          268          ⎟   ⎜1      ╱ 8269   √11823⋅ⅈ              268         \n",
       "───────────────────────⎟ - ⎜─ - 3 ╱  ──── + ────────  - ──────────────────────\n",
       "      _________________⎟   ⎜3   ╲╱    54       2              ________________\n",
       "     ╱ 8269   √11823⋅ⅈ ⎟   ⎜                                 ╱ 8269   √11823⋅ⅈ\n",
       "9⋅3 ╱  ──── + ──────── ⎟   ⎜                            9⋅3 ╱  ──── + ────────\n",
       "  ╲╱    54       2     ⎠   ⎝                              ╲╱    54       2    \n",
       "──────────────────────────────────────────────────────────────────────────────\n",
       "                         ⎞ ⎛        _________________                         \n",
       "            268          ⎟ ⎜1      ╱ 8269   √11823⋅ⅈ              268         \n",
       "- ───────────────────────⎟⋅⎜─ - 3 ╱  ──── + ────────  - ──────────────────────\n",
       "        _________________⎟ ⎜3   ╲╱    54       2              ________________\n",
       "       ╱ 8269   √11823⋅ⅈ ⎟ ⎜                                 ╱ 8269   √11823⋅ⅈ\n",
       "  9⋅3 ╱  ──── + ──────── ⎟ ⎜                            9⋅3 ╱  ──── + ────────\n",
       "    ╲╱    54       2     ⎠ ⎝                              ╲╱    54       2    \n",
       "                                                                              \n",
       "                                _________________⎞                            \n",
       "          536                  ╱ 8269   √11823⋅ⅈ ⎟                            \n",
       "─────────────────────── + 6⋅3 ╱  ──── + ──────── ⎟                            \n",
       "      _________________     ╲╱    54       2     ⎟                            \n",
       "     ╱ 8269   √11823⋅ⅈ                           ⎟                            \n",
       "3⋅3 ╱  ──── + ────────                           ⎟                            \n",
       "  ╲╱    54       2                               ⎠                            \n",
       "──────────────────────────────────────────────────────────────────────────────\n",
       "                        ⎞ ⎛        _________________                          \n",
       "           268          ⎟ ⎜1      ╱ 8269   √11823⋅ⅈ              268          \n",
       " ───────────────────────⎟⋅⎜─ - 3 ╱  ──── + ────────  - ───────────────────────\n",
       "       _________________⎟ ⎜3   ╲╱    54       2              _________________\n",
       "      ╱ 8269   √11823⋅ⅈ ⎟ ⎜                                 ╱ 8269   √11823⋅ⅈ \n",
       " 9⋅3 ╱  ──── + ──────── ⎟ ⎜                            9⋅3 ╱  ──── + ──────── \n",
       "   ╲╱    54       2     ⎠ ⎝                              ╲╱    54       2     \n",
       "                                                                              \n",
       "                     1                                                        \n",
       "\n",
       " ⎞ ⎛                                     _________________⎞⎞ ⎤⎤⎞⎤\n",
       " ⎟ ⎜               536                  ╱ 8269   √11823⋅ⅈ ⎟⎟ ⎥⎥⎟⎥\n",
       "─⎟⋅⎜34 + ─────────────────────── + 6⋅3 ╱  ──── + ──────── ⎟⎟ ⎥⎥⎟⎥\n",
       "_⎟ ⎜           _________________     ╲╱    54       2     ⎟⎟ ⎥⎥⎟⎥\n",
       " ⎟ ⎜          ╱ 8269   √11823⋅ⅈ                           ⎟⎟ ⎥⎥⎟⎥\n",
       " ⎟ ⎜     3⋅3 ╱  ──── + ────────                           ⎟⎟ ⎥⎥⎟⎥\n",
       " ⎠ ⎝       ╲╱    54       2                               ⎠⎠ ⎥⎥⎟⎥\n",
       "─────────────────────────────────────────────────────────────⎥⎥⎟⎥\n",
       " ⎞                                                           ⎥⎥⎟⎥\n",
       " ⎟                                                           ⎥⎥⎟⎥\n",
       "─⎟                                                           ⎥⎥⎟⎥\n",
       "_⎟                                                           ⎥⎥⎟⎥\n",
       " ⎟                                                           ⎥⎥⎟⎥\n",
       " ⎟                                                           ⎥⎥⎟⎥\n",
       " ⎠                                                           ⎥⎥⎟⎥\n",
       "                                                             ⎥⎥⎟⎥\n",
       "                                                             ⎥⎥⎟⎥\n",
       "                                                             ⎥⎥⎟⎥\n",
       "                                                             ⎥⎥⎟⎥\n",
       "                                                             ⎥⎥⎟⎥\n",
       "                                                             ⎥⎥⎟⎥\n",
       "                                                             ⎥⎥⎟⎥\n",
       "                                                             ⎥⎥⎟⎥\n",
       "─                                                            ⎥⎥⎟⎥\n",
       "⎞                                                            ⎥⎥⎟⎥\n",
       "⎟                                                            ⎥⎥⎟⎥\n",
       "⎟                                                            ⎥⎥⎟⎥\n",
       "⎟                                                            ⎥⎥⎟⎥\n",
       "⎟                                                            ⎥⎥⎟⎥\n",
       "⎟                                                            ⎥⎥⎟⎥\n",
       "⎠                                                            ⎥⎥⎟⎥\n",
       "                                                             ⎥⎥⎟⎥\n",
       "                                                             ⎦⎦⎠⎦"
      ]
     },
     "execution_count": 68,
     "metadata": {},
     "output_type": "execute_result"
    }
   ],
   "source": [
    "M.eigenvects()"
   ]
  },
  {
   "cell_type": "code",
   "execution_count": 63,
   "metadata": {},
   "outputs": [
    {
     "data": {
      "image/png": "[encoded data removed]",
      "text/latex": [
       "$\\displaystyle \\left\\{ \\frac{14}{3} + \\left(- \\frac{1}{2} - \\frac{\\sqrt{3} i}{2}\\right) \\sqrt[3]{\\frac{8269}{54} + \\frac{\\sqrt{11823} i}{2}} + \\frac{268}{9 \\left(- \\frac{1}{2} - \\frac{\\sqrt{3} i}{2}\\right) \\sqrt[3]{\\frac{8269}{54} + \\frac{\\sqrt{11823} i}{2}}} : 1, \\  \\frac{14}{3} + \\frac{268}{9 \\left(- \\frac{1}{2} + \\frac{\\sqrt{3} i}{2}\\right) \\sqrt[3]{\\frac{8269}{54} + \\frac{\\sqrt{11823} i}{2}}} + \\left(- \\frac{1}{2} + \\frac{\\sqrt{3} i}{2}\\right) \\sqrt[3]{\\frac{8269}{54} + \\frac{\\sqrt{11823} i}{2}} : 1, \\  \\frac{14}{3} + \\frac{268}{9 \\sqrt[3]{\\frac{8269}{54} + \\frac{\\sqrt{11823} i}{2}}} + \\sqrt[3]{\\frac{8269}{54} + \\frac{\\sqrt{11823} i}{2}} : 1\\right\\}$"
      ],
      "text/plain": [
       "⎧                      _________________                                      \n",
       "⎪14   ⎛  1   √3⋅ⅈ⎞    ╱ 8269   √11823⋅ⅈ                    268                \n",
       "⎪── + ⎜- ─ - ────⎟⋅3 ╱  ──── + ────────  + ───────────────────────────────────\n",
       "⎨3    ⎝  2    2  ⎠ ╲╱    54       2                           ________________\n",
       "⎪                                            ⎛  1   √3⋅ⅈ⎞    ╱ 8269   √11823⋅ⅈ\n",
       "⎪                                          9⋅⎜- ─ - ────⎟⋅3 ╱  ──── + ────────\n",
       "⎩                                            ⎝  2    2  ⎠ ╲╱    54       2    \n",
       "\n",
       "                                                                   ___________\n",
       "      14                   268                    ⎛  1   √3⋅ⅈ⎞    ╱ 8269   √11\n",
       "─: 1, ── + ──────────────────────────────────── + ⎜- ─ + ────⎟⋅3 ╱  ──── + ───\n",
       "_     3                       _________________   ⎝  2    2  ⎠ ╲╱    54       \n",
       "             ⎛  1   √3⋅ⅈ⎞    ╱ 8269   √11823⋅ⅈ                                \n",
       "           9⋅⎜- ─ + ────⎟⋅3 ╱  ──── + ────────                                \n",
       "             ⎝  2    2  ⎠ ╲╱    54       2                                    \n",
       "\n",
       "______                                        _________________   ⎫\n",
       "823⋅ⅈ      14             268                ╱ 8269   √11823⋅ⅈ    ⎪\n",
       "───── : 1, ── + ─────────────────────── + 3 ╱  ──── + ──────── : 1⎪\n",
       "2          3          _________________   ╲╱    54       2        ⎬\n",
       "                     ╱ 8269   √11823⋅ⅈ                            ⎪\n",
       "                9⋅3 ╱  ──── + ────────                            ⎪\n",
       "                  ╲╱    54       2                                ⎭"
      ]
     },
     "execution_count": 63,
     "metadata": {},
     "output_type": "execute_result"
    }
   ],
   "source": [
    "M.eigenvals()"
   ]
  },
  {
   "cell_type": "code",
   "execution_count": 75,
   "metadata": {},
   "outputs": [
    {
     "data": {
      "text/latex": [
       "$\\displaystyle \\left[\\begin{matrix}\\frac{14}{3} + \\left(- \\frac{1}{2} - \\frac{\\sqrt{3} i}{2}\\right) \\sqrt[3]{\\frac{8269}{54} + \\frac{\\sqrt{11823} i}{2}} + \\frac{268}{9 \\left(- \\frac{1}{2} - \\frac{\\sqrt{3} i}{2}\\right) \\sqrt[3]{\\frac{8269}{54} + \\frac{\\sqrt{11823} i}{2}}} & 0 & 0\\\\0 & \\frac{14}{3} + \\frac{268}{9 \\left(- \\frac{1}{2} + \\frac{\\sqrt{3} i}{2}\\right) \\sqrt[3]{\\frac{8269}{54} + \\frac{\\sqrt{11823} i}{2}}} + \\left(- \\frac{1}{2} + \\frac{\\sqrt{3} i}{2}\\right) \\sqrt[3]{\\frac{8269}{54} + \\frac{\\sqrt{11823} i}{2}} & 0\\\\0 & 0 & \\frac{14}{3} + \\frac{268}{9 \\sqrt[3]{\\frac{8269}{54} + \\frac{\\sqrt{11823} i}{2}}} + \\sqrt[3]{\\frac{8269}{54} + \\frac{\\sqrt{11823} i}{2}}\\end{matrix}\\right]$"
      ],
      "text/plain": [
       "⎡                      _________________                                      \n",
       "⎢14   ⎛  1   √3⋅ⅈ⎞    ╱ 8269   √11823⋅ⅈ                    268                \n",
       "⎢── + ⎜- ─ - ────⎟⋅3 ╱  ──── + ────────  + ───────────────────────────────────\n",
       "⎢3    ⎝  2    2  ⎠ ╲╱    54       2                           ________________\n",
       "⎢                                            ⎛  1   √3⋅ⅈ⎞    ╱ 8269   √11823⋅ⅈ\n",
       "⎢                                          9⋅⎜- ─ - ────⎟⋅3 ╱  ──── + ────────\n",
       "⎢                                            ⎝  2    2  ⎠ ╲╱    54       2    \n",
       "⎢                                                                             \n",
       "⎢                                                                             \n",
       "⎢                                                                             \n",
       "⎢                                      0                                      \n",
       "⎢                                                                             \n",
       "⎢                                                                             \n",
       "⎢                                                                             \n",
       "⎢                                                                             \n",
       "⎢                                                                             \n",
       "⎢                                                                             \n",
       "⎢                                                                             \n",
       "⎢                                      0                                      \n",
       "⎢                                                                             \n",
       "⎢                                                                             \n",
       "⎢                                                                             \n",
       "⎣                                                                             \n",
       "\n",
       "                                                                              \n",
       "                                                                              \n",
       "─                                        0                                    \n",
       "_                                                                             \n",
       "                                                                              \n",
       "                                                                              \n",
       "                                                                              \n",
       "                                                                              \n",
       "                                                                ______________\n",
       "   14                   268                    ⎛  1   √3⋅ⅈ⎞    ╱ 8269   √11823\n",
       "   ── + ──────────────────────────────────── + ⎜- ─ + ────⎟⋅3 ╱  ──── + ──────\n",
       "   3                       _________________   ⎝  2    2  ⎠ ╲╱    54       2  \n",
       "          ⎛  1   √3⋅ⅈ⎞    ╱ 8269   √11823⋅ⅈ                                   \n",
       "        9⋅⎜- ─ + ────⎟⋅3 ╱  ──── + ────────                                   \n",
       "          ⎝  2    2  ⎠ ╲╱    54       2                                       \n",
       "                                                                              \n",
       "                                                                              \n",
       "                                                                              \n",
       "                                         0                                    \n",
       "                                                                              \n",
       "                                                                              \n",
       "                                                                              \n",
       "                                                                              \n",
       "\n",
       "                                                         ⎤\n",
       "                                                         ⎥\n",
       "                              0                          ⎥\n",
       "                                                         ⎥\n",
       "                                                         ⎥\n",
       "                                                         ⎥\n",
       "                                                         ⎥\n",
       "                                                         ⎥\n",
       "___                                                      ⎥\n",
       "⋅ⅈ                                                       ⎥\n",
       "──                            0                          ⎥\n",
       "                                                         ⎥\n",
       "                                                         ⎥\n",
       "                                                         ⎥\n",
       "                                                         ⎥\n",
       "                                                         ⎥\n",
       "                                        _________________⎥\n",
       "     14             268                ╱ 8269   √11823⋅ⅈ ⎥\n",
       "     ── + ─────────────────────── + 3 ╱  ──── + ──────── ⎥\n",
       "     3          _________________   ╲╱    54       2     ⎥\n",
       "               ╱ 8269   √11823⋅ⅈ                         ⎥\n",
       "          9⋅3 ╱  ──── + ────────                         ⎥\n",
       "            ╲╱    54       2                             ⎦"
      ]
     },
     "execution_count": 75,
     "metadata": {},
     "output_type": "execute_result"
    }
   ],
   "source": [
    "P,J = M.jordan_form()\n",
    "J"
   ]
  },
  {
   "cell_type": "code",
   "execution_count": 79,
   "metadata": {},
   "outputs": [
    {
     "data": {
      "image/png": "[encoded data removed]",
      "text/latex": [
       "$\\displaystyle \\left[ \\sqrt{95 + \\frac{8579}{\\sqrt[3]{\\frac{1587721}{2} + \\frac{\\sqrt{4773580315} i}{2}}} + \\sqrt[3]{\\frac{1587721}{2} + \\frac{\\sqrt{4773580315} i}{2}}}, \\  \\sqrt{95 + \\frac{8579}{\\left(- \\frac{1}{2} + \\frac{\\sqrt{3} i}{2}\\right) \\sqrt[3]{\\frac{1587721}{2} + \\frac{\\sqrt{4773580315} i}{2}}} + \\left(- \\frac{1}{2} + \\frac{\\sqrt{3} i}{2}\\right) \\sqrt[3]{\\frac{1587721}{2} + \\frac{\\sqrt{4773580315} i}{2}}}, \\  \\sqrt{95 + \\left(- \\frac{1}{2} - \\frac{\\sqrt{3} i}{2}\\right) \\sqrt[3]{\\frac{1587721}{2} + \\frac{\\sqrt{4773580315} i}{2}} + \\frac{8579}{\\left(- \\frac{1}{2} - \\frac{\\sqrt{3} i}{2}\\right) \\sqrt[3]{\\frac{1587721}{2} + \\frac{\\sqrt{4773580315} i}{2}}}}\\right]$"
      ],
      "text/plain": [
       "⎡        ____________________________________________________________________ \n",
       "⎢       ╱                                          _________________________  \n",
       "⎢      ╱                    8579                  ╱ 1587721   √4773580315⋅ⅈ   \n",
       "⎢     ╱   95 + ───────────────────────────── + 3 ╱  ─────── + ─────────────  ,\n",
       "⎢    ╱             _________________________   ╲╱      2            2         \n",
       "⎢   ╱             ╱ 1587721   √4773580315⋅ⅈ                                   \n",
       "⎢  ╱           3 ╱  ─────── + ─────────────                                   \n",
       "⎣╲╱            ╲╱      2            2                                         \n",
       "\n",
       "         _____________________________________________________________________\n",
       "        ╱                                                                    _\n",
       "       ╱                          8579                      ⎛  1   √3⋅ⅈ⎞    ╱ \n",
       "      ╱   95 + ────────────────────────────────────────── + ⎜- ─ + ────⎟⋅3 ╱  \n",
       "     ╱                          _________________________   ⎝  2    2  ⎠ ╲╱   \n",
       "    ╱          ⎛  1   √3⋅ⅈ⎞    ╱ 1587721   √4773580315⋅ⅈ                      \n",
       "   ╱           ⎜- ─ + ────⎟⋅3 ╱  ─────── + ─────────────                      \n",
       " ╲╱            ⎝  2    2  ⎠ ╲╱      2            2                            \n",
       "\n",
       "_________________________          ___________________________________________\n",
       "________________________          ╱                       ____________________\n",
       "1587721   √4773580315⋅ⅈ          ╱       ⎛  1   √3⋅ⅈ⎞    ╱ 1587721   √47735803\n",
       "─────── + ─────────────  ,      ╱   95 + ⎜- ─ - ────⎟⋅3 ╱  ─────── + ─────────\n",
       "   2            2              ╱         ⎝  2    2  ⎠ ╲╱      2            2  \n",
       "                              ╱                                               \n",
       "                             ╱                                                \n",
       "                           ╲╱                                                 \n",
       "\n",
       "___________________________________________________⎤\n",
       "_____                                              ⎥\n",
       "15⋅ⅈ                       8579                    ⎥\n",
       "────  + ────────────────────────────────────────── ⎥\n",
       "                         _________________________ ⎥\n",
       "        ⎛  1   √3⋅ⅈ⎞    ╱ 1587721   √4773580315⋅ⅈ  ⎥\n",
       "        ⎜- ─ - ────⎟⋅3 ╱  ─────── + ─────────────  ⎥\n",
       "        ⎝  2    2  ⎠ ╲╱      2            2        ⎦"
      ]
     },
     "execution_count": 79,
     "metadata": {},
     "output_type": "execute_result"
    }
   ],
   "source": [
    "M.singular_values()"
   ]
  },
  {
   "cell_type": "code",
   "execution_count": 83,
   "metadata": {},
   "outputs": [
    {
     "data": {
      "text/latex": [
       "$\\displaystyle \\left[\\begin{matrix}1 & 2 & 3\\\\4 & 5 & 6\\\\9 & 7 & 8\\end{matrix}\\right]$"
      ],
      "text/plain": [
       "⎡1  2  3⎤\n",
       "⎢       ⎥\n",
       "⎢4  5  6⎥\n",
       "⎢       ⎥\n",
       "⎣9  7  8⎦"
      ]
     },
     "execution_count": 83,
     "metadata": {},
     "output_type": "execute_result"
    }
   ],
   "source": [
    "v = Matrix([x,y,z])\n",
    "f = M*v\n",
    "f.jacobian(v)"
   ]
  },
  {
   "cell_type": "code",
   "execution_count": 97,
   "metadata": {},
   "outputs": [
    {
     "data": {
      "text/latex": [
       "$\\displaystyle \\left[\\begin{matrix}25 & 15 & -5\\\\15 & 18 & 0\\\\-5 & 0 & 11\\end{matrix}\\right]$"
      ],
      "text/plain": [
       "⎡25  15  -5⎤\n",
       "⎢          ⎥\n",
       "⎢15  18  0 ⎥\n",
       "⎢          ⎥\n",
       "⎣-5  0   11⎦"
      ]
     },
     "execution_count": 97,
     "metadata": {},
     "output_type": "execute_result"
    }
   ],
   "source": [
    "from sympy.matrices import Matrix\n",
    "A = Matrix(((25, 15, -5), (15, 18, 0), (-5, 0, 11)))\n",
    "A"
   ]
  },
  {
   "cell_type": "code",
   "execution_count": 98,
   "metadata": {},
   "outputs": [
    {
     "data": {
      "text/latex": [
       "$\\displaystyle \\left[\\begin{matrix}5 & 0 & 0\\\\3 & 3 & 0\\\\-1 & 1 & 3\\end{matrix}\\right]$"
      ],
      "text/plain": [
       "⎡5   0  0⎤\n",
       "⎢        ⎥\n",
       "⎢3   3  0⎥\n",
       "⎢        ⎥\n",
       "⎣-1  1  3⎦"
      ]
     },
     "execution_count": 98,
     "metadata": {},
     "output_type": "execute_result"
    }
   ],
   "source": [
    "A.cholesky()"
   ]
  },
  {
   "cell_type": "code",
   "execution_count": 101,
   "metadata": {},
   "outputs": [
    {
     "data": {
      "text/latex": [
       "$\\displaystyle \\left[\\begin{matrix}1 & 2 & 3\\end{matrix}\\right]$"
      ],
      "text/plain": [
       "[1  2  3]"
      ]
     },
     "execution_count": 101,
     "metadata": {},
     "output_type": "execute_result"
    }
   ],
   "source": [
    "M.row(0)"
   ]
  },
  {
   "cell_type": "markdown",
   "metadata": {},
   "source": [
    "## Plotting"
   ]
  },
  {
   "cell_type": "code",
   "execution_count": 108,
   "metadata": {},
   "outputs": [
    {
     "data": {
      "text/plain": [
       "<sympy.plotting.plot.Plot at 0x2a466007548>"
      ]
     },
     "execution_count": 108,
     "metadata": {},
     "output_type": "execute_result"
    }
   ],
   "source": [
    "f = sin(tan(x))\n",
    "plot(f)"
   ]
  },
  {
   "cell_type": "code",
   "execution_count": 110,
   "metadata": {},
   "outputs": [],
   "source": [
    "from sympy.plotting import plot3d"
   ]
  },
  {
   "cell_type": "code",
   "execution_count": 118,
   "metadata": {},
   "outputs": [
    {
     "data": {
      "text/plain": [
       "<sympy.plotting.plot.Plot at 0x2a46ab93948>"
      ]
     },
     "execution_count": 118,
     "metadata": {},
     "output_type": "execute_result"
    }
   ],
   "source": [
    "f = x*y\n",
    "plot3d(f, (x,-100,100), (y,-100,100))"
   ]
  },
  {
   "cell_type": "markdown",
   "metadata": {},
   "source": [
    "## Multivariable Caculus"
   ]
  },
  {
   "cell_type": "code",
   "execution_count": 119,
   "metadata": {},
   "outputs": [
    {
     "data": {
      "image/png": "[encoded data removed]",
      "text/latex": [
       "$\\displaystyle y \\cos{\\left(x y \\right)}$"
      ],
      "text/plain": [
       "y⋅cos(x⋅y)"
      ]
     },
     "execution_count": 119,
     "metadata": {},
     "output_type": "execute_result"
    }
   ],
   "source": [
    "derive_by_array(sin(x*y),x)"
   ]
  },
  {
   "cell_type": "code",
   "execution_count": 121,
   "metadata": {},
   "outputs": [
    {
     "data": {
      "text/latex": [
       "$\\displaystyle \\left[\\begin{matrix}y e^{x^{z}} \\cos{\\left(x y \\right)} + \\frac{x^{z} z e^{x^{z}} \\sin{\\left(x y \\right)}}{x} & x e^{x^{z}} \\cos{\\left(x y \\right)} & x^{z} e^{x^{z}} \\log{\\left(x \\right)} \\sin{\\left(x y \\right)}\\end{matrix}\\right]$"
      ],
      "text/plain": [
       "⎡                         ⎛ z⎞                                                \n",
       "⎢   ⎛ z⎞             z    ⎝x ⎠              ⎛ z⎞               ⎛ z⎞           \n",
       "⎢   ⎝x ⎠            x ⋅z⋅ℯ    ⋅sin(x⋅y)     ⎝x ⎠            z  ⎝x ⎠           \n",
       "⎢y⋅ℯ    ⋅cos(x⋅y) + ───────────────────  x⋅ℯ    ⋅cos(x⋅y)  x ⋅ℯ    ⋅log(x)⋅sin\n",
       "⎣                            x                                                \n",
       "\n",
       "     ⎤\n",
       "     ⎥\n",
       "     ⎥\n",
       "(x⋅y)⎥\n",
       "     ⎦"
      ]
     },
     "execution_count": 121,
     "metadata": {},
     "output_type": "execute_result"
    }
   ],
   "source": [
    "f = exp(x**z)*sin(x*y)\n",
    "v = [x,y,z]\n",
    "derive_by_array(f,v)"
   ]
  },
  {
   "cell_type": "code",
   "execution_count": 124,
   "metadata": {},
   "outputs": [
    {
     "data": {
      "text/latex": [
       "$\\displaystyle \\left( \\left[ e^{z} \\sin{\\left(x y \\right)}, \\  x y, \\  z^{2}\\right], \\  \\left[\\begin{matrix}y e^{z} \\cos{\\left(x y \\right)} & y & 0\\\\x e^{z} \\cos{\\left(x y \\right)} & x & 0\\\\e^{z} \\sin{\\left(x y \\right)} & 0 & 2 z\\end{matrix}\\right]\\right)$"
      ],
      "text/plain": [
       "⎛                        ⎡   z                 ⎤⎞\n",
       "⎜                        ⎢y⋅ℯ ⋅cos(x⋅y)  y   0 ⎥⎟\n",
       "⎜                        ⎢                     ⎥⎟\n",
       "⎜⎡ z                 2⎤  ⎢   z                 ⎥⎟\n",
       "⎜⎣ℯ ⋅sin(x⋅y), x⋅y, z ⎦, ⎢x⋅ℯ ⋅cos(x⋅y)  x   0 ⎥⎟\n",
       "⎜                        ⎢                     ⎥⎟\n",
       "⎜                        ⎢  z                  ⎥⎟\n",
       "⎝                        ⎣ ℯ ⋅sin(x⋅y)   0  2⋅z⎦⎠"
      ]
     },
     "execution_count": 124,
     "metadata": {},
     "output_type": "execute_result"
    }
   ],
   "source": [
    "f = [exp(z)*sin(x*y), x*y, z**2]\n",
    "v = [x,y,z]\n",
    "#Jacobian matrix\n",
    "f, derive_by_array(f,v)"
   ]
  },
  {
   "cell_type": "code",
   "execution_count": 129,
   "metadata": {},
   "outputs": [
    {
     "data": {
      "text/latex": [
       "$\\displaystyle \\left( \\left[\\begin{matrix}e^{z} \\sin{\\left(x y \\right)} & x y & z^{2}\\\\\\sin{\\left(x y z \\right)} & 5 x y & - z^{3}\\\\x y z & 5 y & x^{3}\\end{matrix}\\right], \\  \\left[\\begin{matrix}x & y & z\\end{matrix}\\right]\\right)$"
      ],
      "text/plain": [
       "⎛⎡ z                   2 ⎤           ⎞\n",
       "⎜⎢ℯ ⋅sin(x⋅y)   x⋅y   z  ⎥           ⎟\n",
       "⎜⎢                       ⎥           ⎟\n",
       "⎜⎢                      3⎥           ⎟\n",
       "⎜⎢sin(x⋅y⋅z)   5⋅x⋅y  -z ⎥, [x  y  z]⎟\n",
       "⎜⎢                       ⎥           ⎟\n",
       "⎜⎢                     3 ⎥           ⎟\n",
       "⎝⎣   x⋅y⋅z      5⋅y   x  ⎦           ⎠"
      ]
     },
     "execution_count": 129,
     "metadata": {},
     "output_type": "execute_result"
    }
   ],
   "source": [
    "f = Matrix([\n",
    "    [exp(z)*sin(x*y), x*y, z**2],\n",
    "    [sin(x*y*z), 5*x*y, -z**3],\n",
    "    [x*y*z, 5*y, x**3]\n",
    "])\n",
    "v = Array([x,y,z])\n",
    "f,v"
   ]
  },
  {
   "cell_type": "code",
   "execution_count": 130,
   "metadata": {},
   "outputs": [
    {
     "data": {
      "text/latex": [
       "$\\displaystyle \\left[\\begin{matrix}\\left[\\begin{matrix}y e^{z} \\cos{\\left(x y \\right)} & y & 0\\\\y z \\cos{\\left(x y z \\right)} & 5 y & 0\\\\y z & 0 & 3 x^{2}\\end{matrix}\\right] & \\left[\\begin{matrix}x e^{z} \\cos{\\left(x y \\right)} & x & 0\\\\x z \\cos{\\left(x y z \\right)} & 5 x & 0\\\\x z & 5 & 0\\end{matrix}\\right] & \\left[\\begin{matrix}e^{z} \\sin{\\left(x y \\right)} & 0 & 2 z\\\\x y \\cos{\\left(x y z \\right)} & 0 & - 3 z^{2}\\\\x y & 0 & 0\\end{matrix}\\right]\\end{matrix}\\right]$"
      ],
      "text/plain": [
       "⎡⎡   z                     ⎤  ⎡   z                  ⎤  ⎡  z                  \n",
       "⎢⎢y⋅ℯ ⋅cos(x⋅y)    y    0  ⎥  ⎢x⋅ℯ ⋅cos(x⋅y)    x   0⎥  ⎢ ℯ ⋅sin(x⋅y)    0   2\n",
       "⎢⎢                         ⎥  ⎢                      ⎥  ⎢                     \n",
       "⎢⎢y⋅z⋅cos(x⋅y⋅z)  5⋅y   0  ⎥  ⎢x⋅z⋅cos(x⋅y⋅z)  5⋅x  0⎥  ⎢                     \n",
       "⎢⎢                         ⎥  ⎢                      ⎥  ⎢x⋅y⋅cos(x⋅y⋅z)  0  -3\n",
       "⎢⎢                        2⎥  ⎣     x⋅z         5   0⎦  ⎢                     \n",
       "⎣⎣     y⋅z         0   3⋅x ⎦                            ⎣     x⋅y        0    \n",
       "\n",
       "   ⎤⎤\n",
       "⋅z ⎥⎥\n",
       "   ⎥⎥\n",
       "  2⎥⎥\n",
       "⋅z ⎥⎥\n",
       "   ⎥⎥\n",
       "0  ⎦⎦"
      ]
     },
     "execution_count": 130,
     "metadata": {},
     "output_type": "execute_result"
    }
   ],
   "source": [
    "#gradient of matrix w.r.t vector\n",
    "derive_by_array(f,v)"
   ]
  },
  {
   "cell_type": "code",
   "execution_count": 138,
   "metadata": {},
   "outputs": [
    {
     "data": {
      "text/latex": [
       "$\\displaystyle \\left( \\left[\\begin{matrix}e^{z} \\sin{\\left(x y \\right)} & x y & z^{2}\\\\\\sin{\\left(x y z \\right)} & 5 x y & - z^{3}\\\\x y z & 5 y & x^{3}\\end{matrix}\\right], \\  \\left[\\begin{matrix}x & y & z\\\\x & y & z\\\\x & y & z\\end{matrix}\\right]\\right)$"
      ],
      "text/plain": [
       "⎛⎡ z                   2 ⎤           ⎞\n",
       "⎜⎢ℯ ⋅sin(x⋅y)   x⋅y   z  ⎥           ⎟\n",
       "⎜⎢                       ⎥  ⎡x  y  z⎤⎟\n",
       "⎜⎢                      3⎥  ⎢       ⎥⎟\n",
       "⎜⎢sin(x⋅y⋅z)   5⋅x⋅y  -z ⎥, ⎢x  y  z⎥⎟\n",
       "⎜⎢                       ⎥  ⎢       ⎥⎟\n",
       "⎜⎢                     3 ⎥  ⎣x  y  z⎦⎟\n",
       "⎝⎣   x⋅y⋅z      5⋅y   x  ⎦           ⎠"
      ]
     },
     "execution_count": 138,
     "metadata": {},
     "output_type": "execute_result"
    }
   ],
   "source": [
    "f = Matrix([\n",
    "    [exp(z)*sin(x*y), x*y, z**2],\n",
    "    [sin(x*y*z), 5*x*y, -z**3],\n",
    "    [x*y*z, 5*y, x**3]\n",
    "])\n",
    "v = Matrix([[x,y,z],[x,y,z],[x,y,z]])\n",
    "f,v"
   ]
  },
  {
   "cell_type": "code",
   "execution_count": 139,
   "metadata": {},
   "outputs": [
    {
     "data": {
      "text/latex": [
       "$\\displaystyle \\left[\\begin{matrix}\\left[\\begin{matrix}y e^{z} \\cos{\\left(x y \\right)} & y & 0\\\\y z \\cos{\\left(x y z \\right)} & 5 y & 0\\\\y z & 0 & 3 x^{2}\\end{matrix}\\right] & \\left[\\begin{matrix}x e^{z} \\cos{\\left(x y \\right)} & x & 0\\\\x z \\cos{\\left(x y z \\right)} & 5 x & 0\\\\x z & 5 & 0\\end{matrix}\\right] & \\left[\\begin{matrix}e^{z} \\sin{\\left(x y \\right)} & 0 & 2 z\\\\x y \\cos{\\left(x y z \\right)} & 0 & - 3 z^{2}\\\\x y & 0 & 0\\end{matrix}\\right]\\\\\\left[\\begin{matrix}y e^{z} \\cos{\\left(x y \\right)} & y & 0\\\\y z \\cos{\\left(x y z \\right)} & 5 y & 0\\\\y z & 0 & 3 x^{2}\\end{matrix}\\right] & \\left[\\begin{matrix}x e^{z} \\cos{\\left(x y \\right)} & x & 0\\\\x z \\cos{\\left(x y z \\right)} & 5 x & 0\\\\x z & 5 & 0\\end{matrix}\\right] & \\left[\\begin{matrix}e^{z} \\sin{\\left(x y \\right)} & 0 & 2 z\\\\x y \\cos{\\left(x y z \\right)} & 0 & - 3 z^{2}\\\\x y & 0 & 0\\end{matrix}\\right]\\\\\\left[\\begin{matrix}y e^{z} \\cos{\\left(x y \\right)} & y & 0\\\\y z \\cos{\\left(x y z \\right)} & 5 y & 0\\\\y z & 0 & 3 x^{2}\\end{matrix}\\right] & \\left[\\begin{matrix}x e^{z} \\cos{\\left(x y \\right)} & x & 0\\\\x z \\cos{\\left(x y z \\right)} & 5 x & 0\\\\x z & 5 & 0\\end{matrix}\\right] & \\left[\\begin{matrix}e^{z} \\sin{\\left(x y \\right)} & 0 & 2 z\\\\x y \\cos{\\left(x y z \\right)} & 0 & - 3 z^{2}\\\\x y & 0 & 0\\end{matrix}\\right]\\end{matrix}\\right]$"
      ],
      "text/plain": [
       "⎡⎡   z                     ⎤  ⎡   z                  ⎤  ⎡  z                  \n",
       "⎢⎢y⋅ℯ ⋅cos(x⋅y)    y    0  ⎥  ⎢x⋅ℯ ⋅cos(x⋅y)    x   0⎥  ⎢ ℯ ⋅sin(x⋅y)    0   2\n",
       "⎢⎢                         ⎥  ⎢                      ⎥  ⎢                     \n",
       "⎢⎢y⋅z⋅cos(x⋅y⋅z)  5⋅y   0  ⎥  ⎢x⋅z⋅cos(x⋅y⋅z)  5⋅x  0⎥  ⎢                     \n",
       "⎢⎢                         ⎥  ⎢                      ⎥  ⎢x⋅y⋅cos(x⋅y⋅z)  0  -3\n",
       "⎢⎢                        2⎥  ⎣     x⋅z         5   0⎦  ⎢                     \n",
       "⎢⎣     y⋅z         0   3⋅x ⎦                            ⎣     x⋅y        0    \n",
       "⎢                                                                             \n",
       "⎢⎡   z                     ⎤  ⎡   z                  ⎤  ⎡  z                  \n",
       "⎢⎢y⋅ℯ ⋅cos(x⋅y)    y    0  ⎥  ⎢x⋅ℯ ⋅cos(x⋅y)    x   0⎥  ⎢ ℯ ⋅sin(x⋅y)    0   2\n",
       "⎢⎢                         ⎥  ⎢                      ⎥  ⎢                     \n",
       "⎢⎢y⋅z⋅cos(x⋅y⋅z)  5⋅y   0  ⎥  ⎢x⋅z⋅cos(x⋅y⋅z)  5⋅x  0⎥  ⎢                     \n",
       "⎢⎢                         ⎥  ⎢                      ⎥  ⎢x⋅y⋅cos(x⋅y⋅z)  0  -3\n",
       "⎢⎢                        2⎥  ⎣     x⋅z         5   0⎦  ⎢                     \n",
       "⎢⎣     y⋅z         0   3⋅x ⎦                            ⎣     x⋅y        0    \n",
       "⎢                                                                             \n",
       "⎢⎡   z                     ⎤  ⎡   z                  ⎤  ⎡  z                  \n",
       "⎢⎢y⋅ℯ ⋅cos(x⋅y)    y    0  ⎥  ⎢x⋅ℯ ⋅cos(x⋅y)    x   0⎥  ⎢ ℯ ⋅sin(x⋅y)    0   2\n",
       "⎢⎢                         ⎥  ⎢                      ⎥  ⎢                     \n",
       "⎢⎢y⋅z⋅cos(x⋅y⋅z)  5⋅y   0  ⎥  ⎢x⋅z⋅cos(x⋅y⋅z)  5⋅x  0⎥  ⎢                     \n",
       "⎢⎢                         ⎥  ⎢                      ⎥  ⎢x⋅y⋅cos(x⋅y⋅z)  0  -3\n",
       "⎢⎢                        2⎥  ⎣     x⋅z         5   0⎦  ⎢                     \n",
       "⎣⎣     y⋅z         0   3⋅x ⎦                            ⎣     x⋅y        0    \n",
       "\n",
       "   ⎤⎤\n",
       "⋅z ⎥⎥\n",
       "   ⎥⎥\n",
       "  2⎥⎥\n",
       "⋅z ⎥⎥\n",
       "   ⎥⎥\n",
       "0  ⎦⎥\n",
       "    ⎥\n",
       "   ⎤⎥\n",
       "⋅z ⎥⎥\n",
       "   ⎥⎥\n",
       "  2⎥⎥\n",
       "⋅z ⎥⎥\n",
       "   ⎥⎥\n",
       "0  ⎦⎥\n",
       "    ⎥\n",
       "   ⎤⎥\n",
       "⋅z ⎥⎥\n",
       "   ⎥⎥\n",
       "  2⎥⎥\n",
       "⋅z ⎥⎥\n",
       "   ⎥⎥\n",
       "0  ⎦⎦"
      ]
     },
     "execution_count": 139,
     "metadata": {},
     "output_type": "execute_result"
    }
   ],
   "source": [
    "#gradient of matrix w.r.t matrix\n",
    "derive_by_array(f,v)"
   ]
  },
  {
   "cell_type": "code",
   "execution_count": 135,
   "metadata": {},
   "outputs": [
    {
     "data": {
      "text/latex": [
       "$\\displaystyle \\left[\\begin{matrix}y e^{z} \\cos{\\left(x y \\right)} & y & 0\\\\y z \\cos{\\left(x y z \\right)} & 5 y & 0\\\\y z & 0 & 3 x^{2}\\end{matrix}\\right]$"
      ],
      "text/plain": [
       "⎡   z                     ⎤\n",
       "⎢y⋅ℯ ⋅cos(x⋅y)    y    0  ⎥\n",
       "⎢                         ⎥\n",
       "⎢y⋅z⋅cos(x⋅y⋅z)  5⋅y   0  ⎥\n",
       "⎢                         ⎥\n",
       "⎢                        2⎥\n",
       "⎣     y⋅z         0   3⋅x ⎦"
      ]
     },
     "execution_count": 135,
     "metadata": {},
     "output_type": "execute_result"
    }
   ],
   "source": [
    "derive_by_array(f,x)"
   ]
  },
  {
   "cell_type": "code",
   "execution_count": 136,
   "metadata": {},
   "outputs": [
    {
     "data": {
      "text/latex": [
       "$\\displaystyle \\left[\\begin{matrix}\\left[\\begin{matrix}y e^{z} \\cos{\\left(x y \\right)} & y & 0\\\\y z \\cos{\\left(x y z \\right)} & 5 y & 0\\\\y z & 0 & 3 x^{2}\\end{matrix}\\right] & \\left[\\begin{matrix}x e^{z} \\cos{\\left(x y \\right)} & x & 0\\\\x z \\cos{\\left(x y z \\right)} & 5 x & 0\\\\x z & 5 & 0\\end{matrix}\\right]\\end{matrix}\\right]$"
      ],
      "text/plain": [
       "⎡⎡   z                     ⎤  ⎡   z                  ⎤⎤\n",
       "⎢⎢y⋅ℯ ⋅cos(x⋅y)    y    0  ⎥  ⎢x⋅ℯ ⋅cos(x⋅y)    x   0⎥⎥\n",
       "⎢⎢                         ⎥  ⎢                      ⎥⎥\n",
       "⎢⎢y⋅z⋅cos(x⋅y⋅z)  5⋅y   0  ⎥  ⎢x⋅z⋅cos(x⋅y⋅z)  5⋅x  0⎥⎥\n",
       "⎢⎢                         ⎥  ⎢                      ⎥⎥\n",
       "⎢⎢                        2⎥  ⎣     x⋅z         5   0⎦⎥\n",
       "⎣⎣     y⋅z         0   3⋅x ⎦                          ⎦"
      ]
     },
     "execution_count": 136,
     "metadata": {},
     "output_type": "execute_result"
    }
   ],
   "source": [
    "derive_by_array(f,[x,y])"
   ]
  },
  {
   "cell_type": "code",
   "execution_count": 147,
   "metadata": {},
   "outputs": [
    {
     "data": {
      "text/latex": [
       "$\\displaystyle \\left[\\begin{matrix}\\left[\\begin{matrix}\\left[\\begin{matrix}y e^{z} \\cos{\\left(x y \\right)} & y & 0\\\\y z \\cos{\\left(x y z \\right)} & 5 y & 0\\\\y z & 0 & 3 x^{2}\\end{matrix}\\right] & \\left[\\begin{matrix}x e^{z} \\cos{\\left(x y \\right)} & x & 0\\\\x z \\cos{\\left(x y z \\right)} & 5 x & 0\\\\x z & 5 & 0\\end{matrix}\\right]\\\\\\left[\\begin{matrix}y e^{z} \\cos{\\left(x y \\right)} & y & 0\\\\y z \\cos{\\left(x y z \\right)} & 5 y & 0\\\\y z & 0 & 3 x^{2}\\end{matrix}\\right] & \\left[\\begin{matrix}x e^{z} \\cos{\\left(x y \\right)} & x & 0\\\\x z \\cos{\\left(x y z \\right)} & 5 x & 0\\\\x z & 5 & 0\\end{matrix}\\right]\\end{matrix}\\right] & \\left[\\begin{matrix}\\left[\\begin{matrix}y e^{z} \\cos{\\left(x y \\right)} & y & 0\\\\y z \\cos{\\left(x y z \\right)} & 5 y & 0\\\\y z & 0 & 3 x^{2}\\end{matrix}\\right] & \\left[\\begin{matrix}x e^{z} \\cos{\\left(x y \\right)} & x & 0\\\\x z \\cos{\\left(x y z \\right)} & 5 x & 0\\\\x z & 5 & 0\\end{matrix}\\right]\\\\\\left[\\begin{matrix}y e^{z} \\cos{\\left(x y \\right)} & y & 0\\\\y z \\cos{\\left(x y z \\right)} & 5 y & 0\\\\y z & 0 & 3 x^{2}\\end{matrix}\\right] & \\left[\\begin{matrix}x e^{z} \\cos{\\left(x y \\right)} & x & 0\\\\x z \\cos{\\left(x y z \\right)} & 5 x & 0\\\\x z & 5 & 0\\end{matrix}\\right]\\end{matrix}\\right]\\end{matrix}\\right]$"
      ],
      "text/plain": [
       "⎡⎡⎡   z                     ⎤  ⎡   z                  ⎤⎤  ⎡⎡   z              \n",
       "⎢⎢⎢y⋅ℯ ⋅cos(x⋅y)    y    0  ⎥  ⎢x⋅ℯ ⋅cos(x⋅y)    x   0⎥⎥  ⎢⎢y⋅ℯ ⋅cos(x⋅y)    y\n",
       "⎢⎢⎢                         ⎥  ⎢                      ⎥⎥  ⎢⎢                  \n",
       "⎢⎢⎢y⋅z⋅cos(x⋅y⋅z)  5⋅y   0  ⎥  ⎢x⋅z⋅cos(x⋅y⋅z)  5⋅x  0⎥⎥  ⎢⎢y⋅z⋅cos(x⋅y⋅z)  5⋅\n",
       "⎢⎢⎢                         ⎥  ⎢                      ⎥⎥  ⎢⎢                  \n",
       "⎢⎢⎢                        2⎥  ⎣     x⋅z         5   0⎦⎥  ⎢⎢                  \n",
       "⎢⎢⎣     y⋅z         0   3⋅x ⎦                          ⎥  ⎢⎣     y⋅z         0\n",
       "⎢⎢                                                     ⎥  ⎢                   \n",
       "⎢⎢⎡   z                     ⎤  ⎡   z                  ⎤⎥  ⎢⎡   z              \n",
       "⎢⎢⎢y⋅ℯ ⋅cos(x⋅y)    y    0  ⎥  ⎢x⋅ℯ ⋅cos(x⋅y)    x   0⎥⎥  ⎢⎢y⋅ℯ ⋅cos(x⋅y)    y\n",
       "⎢⎢⎢                         ⎥  ⎢                      ⎥⎥  ⎢⎢                  \n",
       "⎢⎢⎢y⋅z⋅cos(x⋅y⋅z)  5⋅y   0  ⎥  ⎢x⋅z⋅cos(x⋅y⋅z)  5⋅x  0⎥⎥  ⎢⎢y⋅z⋅cos(x⋅y⋅z)  5⋅\n",
       "⎢⎢⎢                         ⎥  ⎢                      ⎥⎥  ⎢⎢                  \n",
       "⎢⎢⎢                        2⎥  ⎣     x⋅z         5   0⎦⎥  ⎢⎢                  \n",
       "⎣⎣⎣     y⋅z         0   3⋅x ⎦                          ⎦  ⎣⎣     y⋅z         0\n",
       "\n",
       "       ⎤  ⎡   z                  ⎤⎤⎤\n",
       "    0  ⎥  ⎢x⋅ℯ ⋅cos(x⋅y)    x   0⎥⎥⎥\n",
       "       ⎥  ⎢                      ⎥⎥⎥\n",
       "y   0  ⎥  ⎢x⋅z⋅cos(x⋅y⋅z)  5⋅x  0⎥⎥⎥\n",
       "       ⎥  ⎢                      ⎥⎥⎥\n",
       "      2⎥  ⎣     x⋅z         5   0⎦⎥⎥\n",
       "   3⋅x ⎦                          ⎥⎥\n",
       "                                  ⎥⎥\n",
       "       ⎤  ⎡   z                  ⎤⎥⎥\n",
       "    0  ⎥  ⎢x⋅ℯ ⋅cos(x⋅y)    x   0⎥⎥⎥\n",
       "       ⎥  ⎢                      ⎥⎥⎥\n",
       "y   0  ⎥  ⎢x⋅z⋅cos(x⋅y⋅z)  5⋅x  0⎥⎥⎥\n",
       "       ⎥  ⎢                      ⎥⎥⎥\n",
       "      2⎥  ⎣     x⋅z         5   0⎦⎥⎥\n",
       "   3⋅x ⎦                          ⎦⎦"
      ]
     },
     "execution_count": 147,
     "metadata": {},
     "output_type": "execute_result"
    }
   ],
   "source": [
    "derive_by_array(f,[[[x,y],[x,y]],[[x,y],[x,y]]])"
   ]
  }
 ],
 "metadata": {
  "kernelspec": {
   "display_name": "Python 3",
   "language": "python",
   "name": "python3"
  },
  "language_info": {
   "codemirror_mode": {
    "name": "ipython",
    "version": 3
   },
   "file_extension": ".py",
   "mimetype": "text/x-python",
   "name": "python",
   "nbconvert_exporter": "python",
   "pygments_lexer": "ipython3",
   "version": "3.7.4"
  }
 },
 "nbformat": 4,
 "nbformat_minor": 2
}
